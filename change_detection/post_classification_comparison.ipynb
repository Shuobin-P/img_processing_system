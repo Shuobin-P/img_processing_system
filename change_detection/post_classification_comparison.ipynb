{
 "cells": [
  {
   "cell_type": "markdown",
   "id": "d772584d",
   "metadata": {},
   "source": [
    "# 思路：先对两张图像分别分类后，再用分类后得到的分类图像做差，如果结果图像中的值为0，说明没有发生变化，若不为0，则说明发生了变化。\n",
    "\n",
    "该论文提供了数据集：https://www.mdpi.com/2072-4292/16/13/2355\n",
    "\n",
    "使用的数据集：https://ieee-dataport.org/open-access/hrscd-high-resolution-semantic-change-detection-dataset\n",
    "注：labels_land_cover_2006和labels_land_cover_2012文件夹中的文件虽然文件名相同，但是图像的像素值不相同。\n",
    "地区： The images cover a range of urban and countryside areas around the French cities of Rennes and Caen"
   ]
  },
  {
   "cell_type": "code",
   "execution_count": null,
   "id": "09addd71",
   "metadata": {},
   "outputs": [],
   "source": [
    "# CNN需要原图 + 已分类的图，CNN自动提取特征，不需要自己提取特征\n",
    "# 监督式学习分类：你需提供特征, label\n",
    "# 非监督式学习分类：你需提供特征"
   ]
  },
  {
   "cell_type": "markdown",
   "id": "e984e084",
   "metadata": {},
   "source": [
    "# 训练模型"
   ]
  },
  {
   "cell_type": "markdown",
   "id": "4e43697a",
   "metadata": {},
   "source": [
    "# 评估模型"
   ]
  },
  {
   "cell_type": "markdown",
   "id": "389de3b5",
   "metadata": {},
   "source": [
    "# 对未见过的图像进行分类"
   ]
  },
  {
   "cell_type": "markdown",
   "id": "fd893645",
   "metadata": {},
   "source": [
    "# 比较"
   ]
  },
  {
   "cell_type": "code",
   "execution_count": null,
   "id": "784d0b8e",
   "metadata": {},
   "outputs": [
    {
     "name": "stdout",
     "output_type": "stream",
     "text": [
      "[-2 -1  0  1]\n"
     ]
    }
   ],
   "source": [
    "import numpy as np\n",
    "from osgeo import gdal\n",
    "# 假装下面两张图片是模型的预测结果\n",
    "ds_2012 = gdal.Open(r'D:\\Download\\HRSCD\\labels_land_cover_2012\\2012\\D14\\14-2012-0435-6910-LA93-0M50-E080.tif') \n",
    "ds_2006 = gdal.Open(r'D:\\Download\\HRSCD\\labels_land_cover_2006\\2006\\D14\\14-2012-0435-6910-LA93-0M50-E080.tif')\n",
    "band_2012 = ds_2012.GetRasterBand(1)\n",
    "land_cover_2012 = band_2012.ReadAsArray()\n",
    "\n",
    "band_2006 = ds_2006.GetRasterBand(1)\n",
    "land_cover_2006 = band_2006.ReadAsArray()\n",
    "\n",
    "diff = land_cover_2012.astype(np.int8) - land_cover_2006.astype(np.int8)\n",
    "print(np.unique(diff))\n",
    "del ds_2012, ds_2006"
   ]
  },
  {
   "cell_type": "markdown",
   "id": "e0f3c968",
   "metadata": {},
   "source": [
    "## 量化land cover变化情况"
   ]
  },
  {
   "cell_type": "code",
   "execution_count": null,
   "id": "8a34db9e",
   "metadata": {},
   "outputs": [
    {
     "name": "stdout",
     "output_type": "stream",
     "text": [
      "Labels: [1 2 3 5]\n",
      "Change Matrix:\n",
      "\n",
      "[[ 9277926   115444        0        0]\n",
      " [  379229 88554646        0        0]\n",
      " [   15631        0  1616793        0]\n",
      " [       0        0        0    40331]]\n"
     ]
    }
   ],
   "source": [
    "from sklearn.metrics import confusion_matrix\n",
    "y_true = land_cover_2006.ravel()\n",
    "y_pred = land_cover_2012.ravel()\n",
    "\n",
    "# 混淆矩阵可表示land cover的变化情况，\n",
    "# 例如：以下混淆矩阵第一行表示有115444个像素由2006年的Artificial surfaces变成了2012年的Agricultural areas\n",
    "labels = np.unique(np.concatenate([y_true, y_pred]))\n",
    "cm = confusion_matrix(y_true, y_pred, labels=labels)\n",
    "\n",
    "print(\"Labels:\", labels)\n",
    "print(\"Change Matrix:\\n\", )\n",
    "print(cm)\n"
   ]
  }
 ],
 "metadata": {
  "kernelspec": {
   "display_name": "Python 3",
   "language": "python",
   "name": "python3"
  },
  "language_info": {
   "codemirror_mode": {
    "name": "ipython",
    "version": 3
   },
   "file_extension": ".py",
   "mimetype": "text/x-python",
   "name": "python",
   "nbconvert_exporter": "python",
   "pygments_lexer": "ipython3",
   "version": "3.11.13"
  }
 },
 "nbformat": 4,
 "nbformat_minor": 5
}

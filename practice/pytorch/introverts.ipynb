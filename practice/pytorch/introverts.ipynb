{
 "cells": [
  {
   "cell_type": "markdown",
   "id": "0c51140a",
   "metadata": {},
   "source": [
    "# 数据预处理"
   ]
  },
  {
   "cell_type": "code",
   "execution_count": 1,
   "id": "1d248cfb",
   "metadata": {},
   "outputs": [
    {
     "name": "stdout",
     "output_type": "stream",
     "text": [
      "Index(['id', 'Time_spent_Alone', 'Stage_fear', 'Social_event_attendance',\n",
      "       'Going_outside', 'Drained_after_socializing', 'Friends_circle_size',\n",
      "       'Post_frequency', 'Personality'],\n",
      "      dtype='object')\n"
     ]
    }
   ],
   "source": [
    "import pandas as pd\n",
    "df = pd.read_csv(r'D:\\Projects\\VsCode\\Python\\img_processing_system\\practice\\pytorch\\data\\introvert_extro\\train.csv')\n",
    "print(df.columns)"
   ]
  },
  {
   "cell_type": "markdown",
   "id": "e425be58",
   "metadata": {},
   "source": [
    "# 空值处理"
   ]
  },
  {
   "cell_type": "code",
   "execution_count": 2,
   "id": "daa4f3ba",
   "metadata": {},
   "outputs": [
    {
     "name": "stdout",
     "output_type": "stream",
     "text": [
      "Time_spent_Alone\n",
      "Stage_fear\n",
      "Social_event_attendance\n",
      "Going_outside\n",
      "Drained_after_socializing\n",
      "Friends_circle_size\n",
      "Post_frequency\n"
     ]
    }
   ],
   "source": [
    "import numpy as np\n",
    "from sklearn.impute import SimpleImputer\n",
    "# 空值\n",
    "isna_df = df.isna()\n",
    "cols = df.columns\n",
    "for col in cols:\n",
    "    if(len(isna_df[col].unique()) > 1):\n",
    "        print(col)\n",
    "\n",
    "# Time_spent_Alone的缺失值用平均值代替\n",
    "imp = SimpleImputer(missing_values=np.nan, strategy='mean')\n",
    "df[\"Time_spent_Alone\"] = imp.fit_transform(df[\"Time_spent_Alone\"].to_numpy().reshape(-1,1))\n",
    "\n",
    "# Stage_fear 可以用IterativeImputer处理，但是其他列可能存在空值\n",
    "# 如果是外向，那么Stage_fear是no。\n",
    "for idx in df.index:\n",
    "    # df.loc[idx, [\"Stage_fear\"]] 返回的是一个Series，不会直接等于None\n",
    "    # 空值在pandas中通常是np.nan，不能用 is None 判断\n",
    "    if pd.isna(df.loc[idx, \"Stage_fear\"]):\n",
    "        if df.loc[idx, \"Personality\"] == \"Extrovert\":\n",
    "            df.loc[idx, \"Stage_fear\"] = \"No\"\n",
    "        elif df.loc[idx, \"Personality\"] == \"Introvert\":\n",
    "            df.loc[idx, \"Stage_fear\"] = \"Yes\"\n",
    "\n",
    "\n",
    "# Social_event_attendance\n",
    "imp = SimpleImputer(missing_values=np.nan, strategy='mean')\n",
    "df[\"Social_event_attendance\"] = imp.fit_transform(df[\"Social_event_attendance\"].to_numpy().reshape(-1,1))\n",
    "\n",
    "# Going_outside\n",
    "imp = SimpleImputer(missing_values=np.nan, strategy='mean')\n",
    "df[\"Going_outside\"] = imp.fit_transform(df[\"Going_outside\"].to_numpy().reshape(-1,1))\n",
    "\n",
    "# Drained_after_socializing\n",
    "for idx in df.index:\n",
    "    # df.loc[idx, [\"Stage_fear\"]] 返回的是一个Series，不会直接等于None\n",
    "    # 空值在pandas中通常是np.nan，不能用 is None 判断\n",
    "    if pd.isna(df.loc[idx, \"Drained_after_socializing\"]):\n",
    "        if df.loc[idx, \"Personality\"] == \"Extrovert\":\n",
    "            df.loc[idx, \"Drained_after_socializing\"] = \"No\"\n",
    "        elif df.loc[idx, \"Personality\"] == \"Introvert\":\n",
    "            df.loc[idx, \"Drained_after_socializing\"] = \"Yes\"\n",
    "\n",
    "# Friends_circle_size\n",
    "imp = SimpleImputer(missing_values=np.nan, strategy='mean')\n",
    "df[\"Friends_circle_size\"] = imp.fit_transform(df[\"Friends_circle_size\"].to_numpy().reshape(-1,1))\n",
    "\n",
    "# Post_frequency\n",
    "imp = SimpleImputer(missing_values=np.nan, strategy='mean')\n",
    "df[\"Post_frequency\"] = imp.fit_transform(df[\"Post_frequency\"].to_numpy().reshape(-1,1))"
   ]
  },
  {
   "cell_type": "markdown",
   "id": "7a50e918",
   "metadata": {},
   "source": [
    "# 得到X与y"
   ]
  },
  {
   "cell_type": "code",
   "execution_count": 9,
   "id": "0852c322",
   "metadata": {},
   "outputs": [
    {
     "name": "stdout",
     "output_type": "stream",
     "text": [
      "Index(['Time_spent_Alone', 'Social_event_attendance', 'Going_outside',\n",
      "       'Friends_circle_size', 'Post_frequency', 'Stage_fear_No',\n",
      "       'Stage_fear_Yes', 'Drained_after_socializing_No',\n",
      "       'Drained_after_socializing_Yes'],\n",
      "      dtype='object')\n",
      "<class 'numpy.ndarray'>\n"
     ]
    }
   ],
   "source": [
    "from sklearn.preprocessing import LabelEncoder\n",
    "from sklearn.model_selection import train_test_split\n",
    "\n",
    "dummies = pd.get_dummies(df[[\"Stage_fear\", \"Drained_after_socializing\"]])\n",
    "X = pd.concat([\n",
    "\tdf[[\"Time_spent_Alone\", \"Social_event_attendance\", \"Going_outside\", \"Friends_circle_size\", \"Post_frequency\"]],\n",
    "\tdummies\n",
    "], axis=1)\n",
    "print(X.columns)\n",
    "X_bool_to_int = X.copy()\n",
    "bool_columns = X.select_dtypes(include=['bool']).columns\n",
    "X_bool_to_int[bool_columns] = X_bool_to_int[bool_columns].astype(int)\n",
    "\n",
    "y = LabelEncoder().fit_transform(df[\"Personality\"])\n",
    "print(type(y))\n",
    "X_train, X_test, y_train, y_test = train_test_split(X, y, test_size=0.2, random_state=0)\n",
    "X_train_np_arr = X_train.to_numpy(dtype=np.float32)\n",
    "X_test_np_arr = X_test.to_numpy(dtype=np.float32)"
   ]
  },
  {
   "cell_type": "code",
   "execution_count": 7,
   "id": "4958fd5f",
   "metadata": {},
   "outputs": [],
   "source": [
    "import torch\n",
    "X_train_tensor = torch.tensor(X_train_np_arr)\n",
    "X_test_tensor = torch.tensor(X_test_np_arr)\n",
    "y_train_tensor = torch.tensor(y_train)\n",
    "y_test_tensor = torch.tensor(y_test)"
   ]
  },
  {
   "cell_type": "markdown",
   "id": "4c115e9e",
   "metadata": {},
   "source": [
    "# 训练模型"
   ]
  },
  {
   "cell_type": "code",
   "execution_count": null,
   "id": "983fcdb4",
   "metadata": {},
   "outputs": [],
   "source": [
    "from torch import nn\n",
    "class Classifier(nn.Module):\n",
    "    def __init__(self):\n",
    "        super().__init__()\n",
    "        # 疑问：hidden1是隐藏层，但是接受数据的输入层呢？\n",
    "        self.hidden1 = nn.Linear(9, 12) # 问题：out_features应该填多少？\n",
    "        self.act1 = nn.ReLU()\n",
    "        self.hidden2 = nn.Linear(12, 8)\n",
    "        self.act2 = nn.ReLU()\n",
    "        self.output = nn.Linear(8, 1)\n",
    "        self.act_output = nn.Sigmoid()\n",
    "\n",
    "    def forward(self, x):\n",
    "        x = self.act1(self.hidden1(x))\n",
    "        x = self.act2(self.hidden2(x))\n",
    "        x = self.act_output(self.output(x))\n",
    "        return x\n",
    "\n",
    "model = Classifier()\n",
    "print(model)"
   ]
  }
 ],
 "metadata": {
  "kernelspec": {
   "display_name": "Python 3",
   "language": "python",
   "name": "python3"
  },
  "language_info": {
   "codemirror_mode": {
    "name": "ipython",
    "version": 3
   },
   "file_extension": ".py",
   "mimetype": "text/x-python",
   "name": "python",
   "nbconvert_exporter": "python",
   "pygments_lexer": "ipython3",
   "version": "3.11.13"
  }
 },
 "nbformat": 4,
 "nbformat_minor": 5
}

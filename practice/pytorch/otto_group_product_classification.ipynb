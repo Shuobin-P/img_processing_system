{
 "cells": [
  {
   "cell_type": "markdown",
   "id": "ba45c5f0",
   "metadata": {},
   "source": [
    "输出层后的激活函数：nn.Softmax()，但是我不知道如何用于多分类问题"
   ]
  }
 ],
 "metadata": {
  "language_info": {
   "name": "python"
  }
 },
 "nbformat": 4,
 "nbformat_minor": 5
}

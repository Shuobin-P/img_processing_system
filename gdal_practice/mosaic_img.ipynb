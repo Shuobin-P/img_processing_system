{
 "cells": [
  {
   "cell_type": "markdown",
   "id": "33e5f7e3",
   "metadata": {},
   "source": [
    "# 镶嵌多张图像"
   ]
  },
  {
   "cell_type": "code",
   "execution_count": null,
   "id": "31af3614",
   "metadata": {},
   "outputs": [
    {
     "name": "stdout",
     "output_type": "stream",
     "text": [
      "columns =  16345\n",
      "rows =  14700\n"
     ]
    }
   ],
   "source": [
    "import glob\n",
    "import os\n",
    "from osgeo import gdal\n",
    "import math\n",
    "\n",
    "# 获得x，y的坐标最小值，最大值；即清楚了图像的长和宽。\n",
    "def get_extent(fn): \n",
    "    '''Returns min_x, max_y, max_x, min_y''' \n",
    "    ds = gdal.Open(fn)\n",
    "    gt = ds.GetGeoTransform()\n",
    "    # ds.RasterXSize 指照片的长有多少像素点，ds.RasterYSize是照片的宽有多少像素点\n",
    "    return (gt[0], gt[3], gt[0] + gt[1] * ds.RasterXSize, gt[3] + gt[5] * ds.RasterYSize)\n",
    "\n",
    "os.chdir(r'E:\\Tools\\QGIS_tutorial_data\\osgeopy-data\\Massachusetts') \n",
    "\n",
    "# Calculate output extent from all inputs\n",
    "in_files = glob.glob('O*.tif') # 以O开头的所有tif文件\n",
    "min_x, max_y, max_x, min_y = get_extent(in_files[0]) \n",
    "\n",
    "for fn in in_files[1:]: \n",
    "    minx, maxy, maxx, miny = get_extent(fn) \n",
    "    min_x = min(min_x, minx) \n",
    "    max_y = max(max_y, maxy) \n",
    "    max_x = max(max_x, maxx) \n",
    "    min_y = min(min_y, miny)\n",
    "\n",
    "# Calculate dimensions\n",
    "in_ds = gdal.Open(in_files[0]) \n",
    "gt = in_ds.GetGeoTransform() \n",
    "rows = math.ceil((max_y - min_y) / -gt[5]) \n",
    "columns = math.ceil((max_x - min_x) / gt[1])\n",
    "\n",
    "# Create output\n",
    "driver = gdal.GetDriverByName('gtiff') \n",
    "out_ds = driver.Create('mosaic.tif', columns, rows) \n",
    "print(\"columns = \", columns)\n",
    "print(\"rows = \", rows)\n",
    "out_ds.SetProjection(in_ds.GetProjection()) \n",
    "out_band = out_ds.GetRasterBand(1)\n",
    "\n",
    "# Calculate new geotransform\n",
    "gt = list(in_ds.GetGeoTransform()) \n",
    "gt[0], gt[3] = min_x, max_y \n",
    "out_ds.SetGeoTransform(gt)\n",
    "\n",
    "for fn in in_files: \n",
    "    in_ds = gdal.Open(fn) \n",
    "    # Get output offsets\n",
    "    trans = gdal.Transformer(in_ds, out_ds, []) \n",
    "    success, xyz = trans.TransformPoint(False, 0, 0) \n",
    "    x, y, z = map(int, xyz) \n",
    "    # Copy data\n",
    "    data = in_ds.GetRasterBand(1).ReadAsArray() \n",
    "    out_band.WriteArray(data, x, y)\n",
    "\n",
    "del in_ds, out_band, out_ds"
   ]
  },
  {
   "cell_type": "markdown",
   "id": "1240a3ff",
   "metadata": {},
   "source": [
    "# 镶嵌两张图像\n",
    "拼接O4207063.NES.916802.tif 和 O4207063.NWS.916803.tif"
   ]
  },
  {
   "cell_type": "code",
   "execution_count": 6,
   "id": "6003201d",
   "metadata": {},
   "outputs": [
    {
     "name": "stdout",
     "output_type": "stream",
     "text": [
      "7695 11078\n"
     ]
    }
   ],
   "source": [
    "import os\n",
    "from osgeo import gdal\n",
    "import math\n",
    "\n",
    "def get_extent(fn): \n",
    "    '''Returns min_x, max_y, max_x, min_y''' \n",
    "    ds = gdal.Open(fn)\n",
    "    gt = ds.GetGeoTransform()\n",
    "    # ds.RasterXSize 指照片的长有多少像素点，ds.RasterYSize是照片的宽有多少像素点\n",
    "    return (gt[0], gt[3], gt[0] + gt[1] * ds.RasterXSize, gt[3] + gt[5] * ds.RasterYSize)\n",
    "\n",
    "os.chdir(r'E:\\Tools\\QGIS_tutorial_data\\osgeopy-data\\Massachusetts') \n",
    "in_files = ['O4207063.NWS.916803.tif', 'O4207063.NES.916802.tif']\n",
    "min_x, max_y, max_x, min_y = get_extent(in_files[0]) \n",
    "\n",
    "for fn in in_files[1:]: \n",
    "    minx, maxy, maxx, miny = get_extent(fn) \n",
    "    min_x = min(min_x, minx) \n",
    "    max_y = max(max_y, maxy) \n",
    "    max_x = max(max_x, maxx) \n",
    "    min_y = min(min_y, miny)\n",
    "\n",
    "# Calculate dimensions\n",
    "in_ds = gdal.Open(in_files[0]) \n",
    "gt = in_ds.GetGeoTransform() \n",
    "rows = math.ceil((max_y - min_y) / -gt[5]) \n",
    "columns = math.ceil((max_x - min_x) / gt[1])\n",
    "print(rows, columns)\n",
    "\n",
    "# Create output\n",
    "driver = gdal.GetDriverByName('gtiff') \n",
    "out_ds = driver.Create('my_first_mosaic.tif', columns, rows) \n",
    "out_ds.SetProjection(in_ds.GetProjection()) \n",
    "out_band = out_ds.GetRasterBand(1)\n",
    "\n",
    "# Calculate new geotransform\n",
    "gt = list(in_ds.GetGeoTransform()) \n",
    "gt[0], gt[3] = min_x, max_y \n",
    "out_ds.SetGeoTransform(gt)\n",
    "\n",
    "for fn in in_files: \n",
    "    in_ds = gdal.Open(fn) \n",
    "    # Get output offsets\n",
    "    trans = gdal.Transformer(in_ds, out_ds, []) \n",
    "    success, xyz = trans.TransformPoint(False, 0, 0) \n",
    "    x, y, z = map(int, xyz) \n",
    "    # Copy data\n",
    "    data = in_ds.GetRasterBand(1).ReadAsArray() \n",
    "    out_band.WriteArray(data, x, y)\n",
    "\n",
    "del in_ds, out_band, out_ds"
   ]
  },
  {
   "cell_type": "markdown",
   "id": "78271889",
   "metadata": {},
   "source": [
    "# 随便拿两张图，是否能够镶嵌成功？"
   ]
  },
  {
   "cell_type": "code",
   "execution_count": null,
   "id": "8273fcc3",
   "metadata": {},
   "outputs": [
    {
     "name": "stdout",
     "output_type": "stream",
     "text": [
      "712559 252197\n",
      "out_ds is  None\n"
     ]
    },
    {
     "ename": "AttributeError",
     "evalue": "'NoneType' object has no attribute 'SetProjection'",
     "output_type": "error",
     "traceback": [
      "\u001b[31m---------------------------------------------------------------------------\u001b[39m",
      "\u001b[31mAttributeError\u001b[39m                            Traceback (most recent call last)",
      "\u001b[36mCell\u001b[39m\u001b[36m \u001b[39m\u001b[32mIn[9]\u001b[39m\u001b[32m, line 33\u001b[39m\n\u001b[32m     31\u001b[39m out_ds = driver.Create(\u001b[33m'\u001b[39m\u001b[33munrelated_picture_mosaic.tif\u001b[39m\u001b[33m'\u001b[39m, columns, rows) \n\u001b[32m     32\u001b[39m \u001b[38;5;28mprint\u001b[39m(\u001b[33m\"\u001b[39m\u001b[33mout_ds is \u001b[39m\u001b[33m\"\u001b[39m, out_ds)\n\u001b[32m---> \u001b[39m\u001b[32m33\u001b[39m \u001b[43mout_ds\u001b[49m\u001b[43m.\u001b[49m\u001b[43mSetProjection\u001b[49m(in_ds.GetProjection()) \n\u001b[32m     34\u001b[39m out_band = out_ds.GetRasterBand(\u001b[32m1\u001b[39m)\n\u001b[32m     36\u001b[39m \u001b[38;5;66;03m# Calculate new geotransform\u001b[39;00m\n",
      "\u001b[31mAttributeError\u001b[39m: 'NoneType' object has no attribute 'SetProjection'"
     ]
    }
   ],
   "source": [
    "import os\n",
    "from osgeo import gdal\n",
    "import math\n",
    "\n",
    "def get_extent(fn): \n",
    "    '''Returns min_x, max_y, max_x, min_y''' \n",
    "    ds = gdal.Open(fn)\n",
    "    gt = ds.GetGeoTransform()\n",
    "    # ds.RasterXSize 指照片的长有多少像素点，ds.RasterYSize是照片的宽有多少像素点\n",
    "    return (gt[0], gt[3], gt[0] + gt[1] * ds.RasterXSize, gt[3] + gt[5] * ds.RasterYSize)\n",
    "\n",
    "os.chdir(r'E:\\Tools\\QGIS_tutorial_data\\osgeopy-data\\Massachusetts') \n",
    "in_files = ['O4207063.NES.916802.tif', 'random_img_for_test.tif']\n",
    "min_x, max_y, max_x, min_y = get_extent(in_files[0]) \n",
    "for fn in in_files[1:]: \n",
    "    minx, maxy, maxx, miny = get_extent(fn) \n",
    "    min_x = min(min_x, minx) \n",
    "    max_y = max(max_y, maxy) \n",
    "    max_x = max(max_x, maxx) \n",
    "    min_y = min(min_y, miny)\n",
    "\n",
    "# Calculate dimensions\n",
    "in_ds = gdal.Open(in_files[0]) \n",
    "gt = in_ds.GetGeoTransform() \n",
    "rows = math.ceil((max_y - min_y) / -gt[5]) \n",
    "columns = math.ceil((max_x - min_x) / gt[1])\n",
    "print(rows, columns)\n",
    "\n",
    "# Create output\n",
    "driver = gdal.GetDriverByName('gtiff') \n",
    "\n",
    "out_ds = driver.Create('unrelated_picture_mosaic.tif', columns, rows) \n",
    "print(\"out_ds is \", out_ds)\n",
    "out_ds.SetProjection(in_ds.GetProjection()) \n",
    "out_band = out_ds.GetRasterBand(1)\n",
    "\n",
    "# Calculate new geotransform\n",
    "gt = list(in_ds.GetGeoTransform()) \n",
    "gt[0], gt[3] = min_x, max_y \n",
    "out_ds.SetGeoTransform(gt)\n",
    "\n",
    "for fn in in_files: \n",
    "    in_ds = gdal.Open(fn) \n",
    "    # Get output offsets\n",
    "    trans = gdal.Transformer(in_ds, out_ds, []) \n",
    "    success, xyz = trans.TransformPoint(False, 0, 0) \n",
    "    x, y, z = map(int, xyz) \n",
    "    # Copy data\n",
    "    data = in_ds.GetRasterBand(1).ReadAsArray() \n",
    "    out_band.WriteArray(data, x, y)\n",
    "\n",
    "del in_ds, out_band, out_ds"
   ]
  }
 ],
 "metadata": {
  "kernelspec": {
   "display_name": ".conda",
   "language": "python",
   "name": "python3"
  },
  "language_info": {
   "codemirror_mode": {
    "name": "ipython",
    "version": 3
   },
   "file_extension": ".py",
   "mimetype": "text/x-python",
   "name": "python",
   "nbconvert_exporter": "python",
   "pygments_lexer": "ipython3",
   "version": "3.11.13"
  }
 },
 "nbformat": 4,
 "nbformat_minor": 5
}

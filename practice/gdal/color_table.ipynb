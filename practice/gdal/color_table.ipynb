{
 "cells": [
  {
   "cell_type": "code",
   "execution_count": 14,
   "id": "ccceacf6",
   "metadata": {},
   "outputs": [],
   "source": [
    "import os\n",
    "from osgeo import gdal\n",
    "os.chdir(r'D:\\Projects\\VsCode\\Python\\img_processing_system\\osgeopy-data\\Switzerland')\n",
    "original_ds = gdal.Open('dem_class.tif')\n",
    "driver = gdal.GetDriverByName('gtiff')\n",
    "ds = driver.CreateCopy('dem_class2.tif', original_ds)    \n",
    "band = ds.GetRasterBand(1)"
   ]
  },
  {
   "cell_type": "code",
   "execution_count": 15,
   "id": "0d62136b",
   "metadata": {},
   "outputs": [],
   "source": [
    "\"\"\"\n",
    "Create an RGB ColorTable and add colors\n",
    "\"\"\"\n",
    "colors = gdal.ColorTable()                                              \n",
    "colors.SetColorEntry(1, (112, 153, 89))                                \n",
    "colors.SetColorEntry(2, (242, 238, 162))                               \n",
    "colors.SetColorEntry(3, (242, 206, 133))                                \n",
    "colors.SetColorEntry(4, (194, 140, 124))                               \n",
    "colors.SetColorEntry(5, (214, 193, 156)) "
   ]
  },
  {
   "cell_type": "code",
   "execution_count": 16,
   "id": "1f0bf19a",
   "metadata": {},
   "outputs": [],
   "source": [
    "# Add the colorTable to the band\n",
    "band.SetRasterColorTable(colors)                                     \n",
    "#band.SetRasterColorInterpretation(gdal.GCI_PaletteIndex)\n",
    "\n",
    "del band, ds\n"
   ]
  },
  {
   "cell_type": "code",
   "execution_count": 17,
   "id": "c8dde0a8",
   "metadata": {},
   "outputs": [],
   "source": [
    "os.chdir(r'D:\\Projects\\VsCode\\Python\\img_processing_system\\osgeopy-data\\Switzerland')\n",
    "ds = gdal.Open('dem_class2.tif', gdal.GA_Update)              \n",
    "band = ds.GetRasterBand(1)\n",
    "colors = band.GetRasterColorTable()\n",
    "colors.SetColorEntry(5, (250, 250, 250))\n",
    "band.SetRasterColorTable(colors)                                   \n",
    "del band, ds"
   ]
  }
 ],
 "metadata": {
  "kernelspec": {
   "display_name": "Python 3",
   "language": "python",
   "name": "python3"
  },
  "language_info": {
   "codemirror_mode": {
    "name": "ipython",
    "version": 3
   },
   "file_extension": ".py",
   "mimetype": "text/x-python",
   "name": "python",
   "nbconvert_exporter": "python",
   "pygments_lexer": "ipython3",
   "version": "3.11.13"
  }
 },
 "nbformat": 4,
 "nbformat_minor": 5
}

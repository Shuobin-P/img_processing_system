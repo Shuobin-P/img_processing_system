{
 "cells": [
  {
   "cell_type": "code",
   "execution_count": 6,
   "id": "0cc1778d",
   "metadata": {},
   "outputs": [
    {
     "name": "stdout",
     "output_type": "stream",
     "text": [
      "[2 3 4 5 6]\n",
      "[1 2 3 4 5 6]\n"
     ]
    }
   ],
   "source": [
    "import numpy as np\n",
    "arr_2d_1 = [\n",
    "    [4,5,6],\n",
    "    [2,3, 1],\n",
    "]\n",
    "\n",
    "print(np.unique(arr_2d_1)[1:])\n",
    "print(np.unique(arr_2d_1))\n"
   ]
  }
 ],
 "metadata": {
  "kernelspec": {
   "display_name": "Python 3",
   "language": "python",
   "name": "python3"
  },
  "language_info": {
   "codemirror_mode": {
    "name": "ipython",
    "version": 3
   },
   "file_extension": ".py",
   "mimetype": "text/x-python",
   "name": "python",
   "nbconvert_exporter": "python",
   "pygments_lexer": "ipython3",
   "version": "3.11.13"
  }
 },
 "nbformat": 4,
 "nbformat_minor": 5
}

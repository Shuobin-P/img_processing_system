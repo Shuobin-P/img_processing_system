{
 "cells": [
  {
   "cell_type": "markdown",
   "id": "0c51140a",
   "metadata": {},
   "source": [
    "# 数据预处理"
   ]
  },
  {
   "cell_type": "code",
   "execution_count": 2,
   "id": "1d248cfb",
   "metadata": {},
   "outputs": [
    {
     "name": "stdout",
     "output_type": "stream",
     "text": [
      "Index(['id', 'Time_spent_Alone', 'Stage_fear', 'Social_event_attendance',\n",
      "       'Going_outside', 'Drained_after_socializing', 'Friends_circle_size',\n",
      "       'Post_frequency', 'Personality'],\n",
      "      dtype='object')\n"
     ]
    }
   ],
   "source": [
    "import pandas as pd\n",
    "df = pd.read_csv(r'D:\\Projects\\VsCode\\Python\\img_processing_system\\practice\\pytorch\\data\\introvert_extro\\train.csv')\n",
    "print(df.columns)\n"
   ]
  },
  {
   "cell_type": "markdown",
   "id": "e425be58",
   "metadata": {},
   "source": [
    "# 空值处理"
   ]
  },
  {
   "cell_type": "code",
   "execution_count": 3,
   "id": "daa4f3ba",
   "metadata": {},
   "outputs": [
    {
     "name": "stdout",
     "output_type": "stream",
     "text": [
      "Time_spent_Alone\n",
      "Stage_fear\n",
      "Social_event_attendance\n",
      "Going_outside\n",
      "Drained_after_socializing\n",
      "Friends_circle_size\n",
      "Post_frequency\n"
     ]
    }
   ],
   "source": [
    "import numpy as np\n",
    "from sklearn.impute import SimpleImputer\n",
    "# 空值\n",
    "isna_df = df.isna()\n",
    "cols = df.columns\n",
    "for col in cols:\n",
    "    if(len(isna_df[col].unique()) > 1):\n",
    "        print(col)\n",
    "\n",
    "# Time_spent_Alone的缺失值用平均值代替\n",
    "imp = SimpleImputer(missing_values=np.nan, strategy='mean')\n",
    "df[\"Time_spent_Alone\"] = imp.fit_transform(df[\"Time_spent_Alone\"].to_numpy().reshape(-1,1))\n",
    "\n",
    "# Stage_fear 可以用IterativeImputer处理，但是其他列可能存在空值\n",
    "# 如果是外向，那么Stage_fear是no。\n",
    "for idx in df.index:\n",
    "    # df.loc[idx, [\"Stage_fear\"]] 返回的是一个Series，不会直接等于None\n",
    "    # 空值在pandas中通常是np.nan，不能用 is None 判断\n",
    "    if pd.isna(df.loc[idx, \"Stage_fear\"]):\n",
    "        if df.loc[idx, \"Personality\"] == \"Extrovert\":\n",
    "            df.loc[idx, \"Stage_fear\"] = \"No\"\n",
    "        elif df.loc[idx, \"Personality\"] == \"Introvert\":\n",
    "            df.loc[idx, \"Stage_fear\"] = \"Yes\"\n",
    "\n",
    "\n",
    "# Social_event_attendance\n",
    "imp = SimpleImputer(missing_values=np.nan, strategy='mean')\n",
    "df[\"Social_event_attendance\"] = imp.fit_transform(df[\"Social_event_attendance\"].to_numpy().reshape(-1,1))\n",
    "\n",
    "# Going_outside\n",
    "imp = SimpleImputer(missing_values=np.nan, strategy='mean')\n",
    "df[\"Going_outside\"] = imp.fit_transform(df[\"Going_outside\"].to_numpy().reshape(-1,1))\n",
    "\n",
    "# Drained_after_socializing\n",
    "for idx in df.index:\n",
    "    # df.loc[idx, [\"Stage_fear\"]] 返回的是一个Series，不会直接等于None\n",
    "    # 空值在pandas中通常是np.nan，不能用 is None 判断\n",
    "    if pd.isna(df.loc[idx, \"Drained_after_socializing\"]):\n",
    "        if df.loc[idx, \"Personality\"] == \"Extrovert\":\n",
    "            df.loc[idx, \"Drained_after_socializing\"] = \"No\"\n",
    "        elif df.loc[idx, \"Personality\"] == \"Introvert\":\n",
    "            df.loc[idx, \"Drained_after_socializing\"] = \"Yes\"\n",
    "\n",
    "# Friends_circle_size\n",
    "imp = SimpleImputer(missing_values=np.nan, strategy='mean')\n",
    "df[\"Friends_circle_size\"] = imp.fit_transform(df[\"Friends_circle_size\"].to_numpy().reshape(-1,1))\n",
    "\n",
    "# Post_frequency\n",
    "imp = SimpleImputer(missing_values=np.nan, strategy='mean')\n",
    "df[\"Post_frequency\"] = imp.fit_transform(df[\"Post_frequency\"].to_numpy().reshape(-1,1))"
   ]
  },
  {
   "cell_type": "markdown",
   "id": "7a50e918",
   "metadata": {},
   "source": [
    "# 得到X与y"
   ]
  },
  {
   "cell_type": "code",
   "execution_count": 4,
   "id": "0852c322",
   "metadata": {},
   "outputs": [
    {
     "name": "stdout",
     "output_type": "stream",
     "text": [
      "Index(['Time_spent_Alone', 'Social_event_attendance', 'Going_outside',\n",
      "       'Friends_circle_size', 'Post_frequency', 'Stage_fear_No',\n",
      "       'Stage_fear_Yes', 'Drained_after_socializing_No',\n",
      "       'Drained_after_socializing_Yes'],\n",
      "      dtype='object')\n",
      "<class 'numpy.ndarray'>\n"
     ]
    }
   ],
   "source": [
    "from sklearn.preprocessing import LabelEncoder\n",
    "from sklearn.model_selection import train_test_split\n",
    "\n",
    "dummies = pd.get_dummies(df[[\"Stage_fear\", \"Drained_after_socializing\"]])\n",
    "X = pd.concat([\n",
    "\tdf[[\"Time_spent_Alone\", \"Social_event_attendance\", \"Going_outside\", \"Friends_circle_size\", \"Post_frequency\"]],\n",
    "\tdummies\n",
    "], axis=1)\n",
    "print(X.columns)\n",
    "X_bool_to_int = X.copy()\n",
    "bool_columns = X.select_dtypes(include=['bool']).columns\n",
    "X_bool_to_int[bool_columns] = X_bool_to_int[bool_columns].astype(int)\n",
    "\n",
    "y = LabelEncoder().fit_transform(df[\"Personality\"])\n",
    "print(type(y))\n",
    "X_train, X_test, y_train, y_test = train_test_split(X, y, test_size=0.2, random_state=0)\n",
    "X_train_np_arr = X_train.to_numpy(dtype=np.float32)\n",
    "X_test_np_arr = X_test.to_numpy(dtype=np.float32)"
   ]
  },
  {
   "cell_type": "code",
   "execution_count": 5,
   "id": "4958fd5f",
   "metadata": {},
   "outputs": [
    {
     "name": "stdout",
     "output_type": "stream",
     "text": [
      "Using cuda device\n"
     ]
    }
   ],
   "source": [
    "import torch\n",
    "device = torch.accelerator.current_accelerator().type if torch.accelerator.is_available() else \"cpu\"\n",
    "print(f\"Using {device} device\")\n",
    "\n",
    "X_train_tensor = torch.tensor(X_train_np_arr).to(device)\n",
    "X_test_tensor = torch.tensor(X_test_np_arr).to(device)\n",
    "y_train_tensor = torch.tensor(y_train).reshape(-1,1).type(torch.float32).to(device)\n",
    "y_test_tensor = torch.tensor(y_test).reshape(-1,1).to(device)"
   ]
  },
  {
   "cell_type": "code",
   "execution_count": 6,
   "id": "6a564328",
   "metadata": {},
   "outputs": [
    {
     "name": "stdout",
     "output_type": "stream",
     "text": [
      "torch.Size([14819, 9])\n"
     ]
    }
   ],
   "source": [
    "print(X_train_tensor.shape)"
   ]
  },
  {
   "cell_type": "markdown",
   "id": "4c115e9e",
   "metadata": {},
   "source": [
    "# 训练模型"
   ]
  },
  {
   "cell_type": "code",
   "execution_count": 7,
   "id": "983fcdb4",
   "metadata": {},
   "outputs": [
    {
     "name": "stdout",
     "output_type": "stream",
     "text": [
      "Classifier(\n",
      "  (hidden1): Linear(in_features=9, out_features=12, bias=True)\n",
      "  (act1): ReLU()\n",
      "  (hidden2): Linear(in_features=12, out_features=9, bias=True)\n",
      "  (act2): ReLU()\n",
      "  (output): Linear(in_features=9, out_features=1, bias=True)\n",
      "  (act_output): Sigmoid()\n",
      ")\n"
     ]
    }
   ],
   "source": [
    "from torch import nn\n",
    "class Classifier(nn.Module):\n",
    "    def __init__(self):\n",
    "        super().__init__()\n",
    "        # 疑问：hidden1是隐藏层，但是接受数据的输入层呢？nn.Linear(9, 12)代表了输入层和一个隐藏层吗？\n",
    "        # 答：hidden1不见得就是隐藏层吧。不是hidden1，而是first layer吧。\n",
    "        self.hidden1 = nn.Linear(9, 12) \n",
    "        self.act1 = nn.ReLU()\n",
    "        self.hidden2 = nn.Linear(12, 9)\n",
    "        self.act2 = nn.ReLU()\n",
    "        self.output = nn.Linear(9, 1)\n",
    "        self.act_output = nn.Sigmoid()\n",
    "\n",
    "    def forward(self, x):\n",
    "        x = self.act1(self.hidden1(x))\n",
    "        x = self.act2(self.hidden2(x))\n",
    "        x = self.act_output(self.output(x))\n",
    "        return x\n",
    "\n",
    "model = Classifier()\n",
    "model.to(device)\n",
    "print(model)"
   ]
  },
  {
   "cell_type": "code",
   "execution_count": 8,
   "id": "35fd9989",
   "metadata": {},
   "outputs": [],
   "source": [
    "import torch.optim as optim\n",
    "\n",
    "loss_fn = nn.BCELoss()  # binary cross entropy\n",
    "optimizer = optim.Adam(model.parameters(), lr=0.001)"
   ]
  },
  {
   "cell_type": "code",
   "execution_count": 9,
   "id": "1acaeb8c",
   "metadata": {},
   "outputs": [
    {
     "name": "stdout",
     "output_type": "stream",
     "text": [
      "Finished epoch 0, latest loss 0.024637898430228233\n",
      "Epoch 0 validation: Cross-entropy=0.13170087337493896, Accuracy=0.9713900685310364\n"
     ]
    },
    {
     "name": "stderr",
     "output_type": "stream",
     "text": [
      "C:\\Users\\31204\\AppData\\Local\\Temp\\ipykernel_21464\\1307940724.py:24: UserWarning: Converting a tensor with requires_grad=True to a scalar may lead to unexpected behavior.\n",
      "Consider using tensor.detach() first. (Triggered internally at C:\\actions-runner\\_work\\pytorch\\pytorch\\pytorch\\torch\\csrc\\autograd\\generated\\python_variable_methods.cpp:836.)\n",
      "  print(f\"Epoch {epoch} validation: Cross-entropy={float(ce)}, Accuracy={float(acc)}\")\n"
     ]
    },
    {
     "name": "stdout",
     "output_type": "stream",
     "text": [
      "Finished epoch 1, latest loss 0.0248552355915308\n",
      "Epoch 1 validation: Cross-entropy=0.12697914242744446, Accuracy=0.9719298481941223\n",
      "Finished epoch 2, latest loss 0.023937642574310303\n",
      "Epoch 2 validation: Cross-entropy=0.12300216406583786, Accuracy=0.9716599583625793\n",
      "Finished epoch 3, latest loss 0.022894958034157753\n",
      "Epoch 3 validation: Cross-entropy=0.12119532376527786, Accuracy=0.9716599583625793\n",
      "Finished epoch 4, latest loss 0.021975209936499596\n",
      "Epoch 4 validation: Cross-entropy=0.12061744183301926, Accuracy=0.972469687461853\n",
      "Finished epoch 5, latest loss 0.020885854959487915\n",
      "Epoch 5 validation: Cross-entropy=0.11939793825149536, Accuracy=0.972469687461853\n",
      "Finished epoch 6, latest loss 0.020713016390800476\n",
      "Epoch 6 validation: Cross-entropy=0.118998222053051, Accuracy=0.9721997976303101\n",
      "Finished epoch 7, latest loss 0.020914951339364052\n",
      "Epoch 7 validation: Cross-entropy=0.11853062361478806, Accuracy=0.9721997976303101\n",
      "Finished epoch 8, latest loss 0.020848793908953667\n",
      "Epoch 8 validation: Cross-entropy=0.11818806827068329, Accuracy=0.9721997976303101\n",
      "Finished epoch 9, latest loss 0.020512497052550316\n",
      "Epoch 9 validation: Cross-entropy=0.11804217845201492, Accuracy=0.9730095267295837\n",
      "Finished epoch 10, latest loss 0.020446565002202988\n",
      "Epoch 10 validation: Cross-entropy=0.11782800406217575, Accuracy=0.9730095267295837\n",
      "Finished epoch 11, latest loss 0.020438939332962036\n",
      "Epoch 11 validation: Cross-entropy=0.117612324655056, Accuracy=0.9735493063926697\n",
      "Finished epoch 12, latest loss 0.020890183746814728\n",
      "Epoch 12 validation: Cross-entropy=0.11772732436656952, Accuracy=0.9732794165611267\n",
      "Finished epoch 13, latest loss 0.02076553739607334\n",
      "Epoch 13 validation: Cross-entropy=0.11778034269809723, Accuracy=0.9738191962242126\n",
      "Finished epoch 14, latest loss 0.020544137805700302\n",
      "Epoch 14 validation: Cross-entropy=0.11764497309923172, Accuracy=0.9738191962242126\n",
      "Finished epoch 15, latest loss 0.020340535789728165\n",
      "Epoch 15 validation: Cross-entropy=0.11749953776597977, Accuracy=0.9735493063926697\n",
      "Finished epoch 16, latest loss 0.020633582025766373\n",
      "Epoch 16 validation: Cross-entropy=0.11771013587713242, Accuracy=0.9738191962242126\n",
      "Finished epoch 17, latest loss 0.020716652274131775\n",
      "Epoch 17 validation: Cross-entropy=0.11714185029268265, Accuracy=0.9740891456604004\n",
      "Finished epoch 18, latest loss 0.020006010308861732\n",
      "Epoch 18 validation: Cross-entropy=0.11775663495063782, Accuracy=0.9743590354919434\n",
      "Finished epoch 19, latest loss 0.020878294482827187\n",
      "Epoch 19 validation: Cross-entropy=0.11749119311571121, Accuracy=0.9743590354919434\n",
      "Finished epoch 20, latest loss 0.020603427663445473\n",
      "Epoch 20 validation: Cross-entropy=0.11758019030094147, Accuracy=0.9743590354919434\n",
      "Finished epoch 21, latest loss 0.02045377716422081\n",
      "Epoch 21 validation: Cross-entropy=0.11758658289909363, Accuracy=0.9743590354919434\n",
      "Finished epoch 22, latest loss 0.01954854279756546\n",
      "Epoch 22 validation: Cross-entropy=0.11757747828960419, Accuracy=0.9743590354919434\n",
      "Finished epoch 23, latest loss 0.019717080518603325\n",
      "Epoch 23 validation: Cross-entropy=0.11745905876159668, Accuracy=0.9743590354919434\n",
      "Finished epoch 24, latest loss 0.020383277907967567\n",
      "Epoch 24 validation: Cross-entropy=0.11749022454023361, Accuracy=0.9743590354919434\n",
      "Finished epoch 25, latest loss 0.01959807425737381\n",
      "Epoch 25 validation: Cross-entropy=0.11754146218299866, Accuracy=0.9743590354919434\n",
      "Finished epoch 26, latest loss 0.019773900508880615\n",
      "Epoch 26 validation: Cross-entropy=0.11727823317050934, Accuracy=0.9743590354919434\n",
      "Finished epoch 27, latest loss 0.01969335414469242\n",
      "Epoch 27 validation: Cross-entropy=0.11747898906469345, Accuracy=0.9743590354919434\n",
      "Finished epoch 28, latest loss 0.019907956942915916\n",
      "Epoch 28 validation: Cross-entropy=0.11774914711713791, Accuracy=0.9743590354919434\n",
      "Finished epoch 29, latest loss 0.019768211990594864\n",
      "Epoch 29 validation: Cross-entropy=0.11749734729528427, Accuracy=0.9743590354919434\n",
      "Finished epoch 30, latest loss 0.020029600709676743\n",
      "Epoch 30 validation: Cross-entropy=0.1176079511642456, Accuracy=0.9743590354919434\n",
      "Finished epoch 31, latest loss 0.01958768628537655\n",
      "Epoch 31 validation: Cross-entropy=0.11743144690990448, Accuracy=0.9743590354919434\n",
      "Finished epoch 32, latest loss 0.019533982500433922\n",
      "Epoch 32 validation: Cross-entropy=0.1175777018070221, Accuracy=0.9743590354919434\n",
      "Finished epoch 33, latest loss 0.01964288391172886\n",
      "Epoch 33 validation: Cross-entropy=0.11740385740995407, Accuracy=0.9743590354919434\n",
      "Finished epoch 34, latest loss 0.019924461841583252\n",
      "Epoch 34 validation: Cross-entropy=0.11705922335386276, Accuracy=0.9743590354919434\n",
      "Finished epoch 35, latest loss 0.020248958840966225\n",
      "Epoch 35 validation: Cross-entropy=0.1175752505660057, Accuracy=0.9746289253234863\n",
      "Finished epoch 36, latest loss 0.019717808812856674\n",
      "Epoch 36 validation: Cross-entropy=0.11744953691959381, Accuracy=0.9746289253234863\n",
      "Finished epoch 37, latest loss 0.019574692472815514\n",
      "Epoch 37 validation: Cross-entropy=0.11762849241495132, Accuracy=0.9746289253234863\n",
      "Finished epoch 38, latest loss 0.02014358714222908\n",
      "Epoch 38 validation: Cross-entropy=0.11761733889579773, Accuracy=0.9746289253234863\n",
      "Finished epoch 39, latest loss 0.02008756808936596\n",
      "Epoch 39 validation: Cross-entropy=0.1171770915389061, Accuracy=0.9746289253234863\n",
      "Finished epoch 40, latest loss 0.019904330372810364\n",
      "Epoch 40 validation: Cross-entropy=0.11755567044019699, Accuracy=0.9746289253234863\n",
      "Finished epoch 41, latest loss 0.019475314766168594\n",
      "Epoch 41 validation: Cross-entropy=0.1175934448838234, Accuracy=0.9746289253234863\n",
      "Finished epoch 42, latest loss 0.020135605707764626\n",
      "Epoch 42 validation: Cross-entropy=0.11716276407241821, Accuracy=0.9746289253234863\n",
      "Finished epoch 43, latest loss 0.02091038227081299\n",
      "Epoch 43 validation: Cross-entropy=0.11722832173109055, Accuracy=0.9746289253234863\n",
      "Finished epoch 44, latest loss 0.02022765763103962\n",
      "Epoch 44 validation: Cross-entropy=0.11748884618282318, Accuracy=0.9746289253234863\n",
      "Finished epoch 45, latest loss 0.0199084784835577\n",
      "Epoch 45 validation: Cross-entropy=0.11724130809307098, Accuracy=0.9746289253234863\n",
      "Finished epoch 46, latest loss 0.020331716164946556\n",
      "Epoch 46 validation: Cross-entropy=0.11730269342660904, Accuracy=0.9746289253234863\n",
      "Finished epoch 47, latest loss 0.020211465656757355\n",
      "Epoch 47 validation: Cross-entropy=0.11746248602867126, Accuracy=0.9746289253234863\n",
      "Finished epoch 48, latest loss 0.019872436299920082\n",
      "Epoch 48 validation: Cross-entropy=0.11719401925802231, Accuracy=0.9743590354919434\n",
      "Finished epoch 49, latest loss 0.019904745742678642\n",
      "Epoch 49 validation: Cross-entropy=0.11715494841337204, Accuracy=0.9743590354919434\n",
      "Finished epoch 50, latest loss 0.019599536433815956\n",
      "Epoch 50 validation: Cross-entropy=0.11741124093532562, Accuracy=0.9743590354919434\n",
      "Finished epoch 51, latest loss 0.020225489512085915\n",
      "Epoch 51 validation: Cross-entropy=0.117451511323452, Accuracy=0.9743590354919434\n",
      "Finished epoch 52, latest loss 0.020060358569025993\n",
      "Epoch 52 validation: Cross-entropy=0.11726339906454086, Accuracy=0.9743590354919434\n",
      "Finished epoch 53, latest loss 0.020279165357351303\n",
      "Epoch 53 validation: Cross-entropy=0.11727768182754517, Accuracy=0.9743590354919434\n",
      "Finished epoch 54, latest loss 0.019835790619254112\n",
      "Epoch 54 validation: Cross-entropy=0.11748788505792618, Accuracy=0.9743590354919434\n",
      "Finished epoch 55, latest loss 0.019839033484458923\n",
      "Epoch 55 validation: Cross-entropy=0.11748138070106506, Accuracy=0.9743590354919434\n",
      "Finished epoch 56, latest loss 0.02031293883919716\n",
      "Epoch 56 validation: Cross-entropy=0.11761929839849472, Accuracy=0.9743590354919434\n",
      "Finished epoch 57, latest loss 0.02051035687327385\n",
      "Epoch 57 validation: Cross-entropy=0.11743900924921036, Accuracy=0.9743590354919434\n",
      "Finished epoch 58, latest loss 0.020188432186841965\n",
      "Epoch 58 validation: Cross-entropy=0.11765545606613159, Accuracy=0.9740891456604004\n",
      "Finished epoch 59, latest loss 0.020537329837679863\n",
      "Epoch 59 validation: Cross-entropy=0.11747970432043076, Accuracy=0.9743590354919434\n",
      "Finished epoch 60, latest loss 0.02045135200023651\n",
      "Epoch 60 validation: Cross-entropy=0.1173887550830841, Accuracy=0.9743590354919434\n",
      "Finished epoch 61, latest loss 0.02065885439515114\n",
      "Epoch 61 validation: Cross-entropy=0.11740098893642426, Accuracy=0.9743590354919434\n",
      "Finished epoch 62, latest loss 0.020292717963457108\n",
      "Epoch 62 validation: Cross-entropy=0.11765821278095245, Accuracy=0.9743590354919434\n",
      "Finished epoch 63, latest loss 0.020228372886776924\n",
      "Epoch 63 validation: Cross-entropy=0.11760152131319046, Accuracy=0.9743590354919434\n",
      "0.9746289253234863\n"
     ]
    }
   ],
   "source": [
    "import copy\n",
    "n_epochs = 64 # 有什么讲究吗？刚开始设置100，但是看打印结果，64时，loss的值最小。\n",
    "batch_size = 10 # 有什么讲究吗？\n",
    "best_acc = - np.inf \n",
    "best_weights = None\n",
    "\n",
    "for epoch in range(n_epochs): # 疑问：为什么模型和X,Y 都放入GPU了，速度还是很慢？\n",
    "    for i in range(0, len(X_train_tensor), batch_size):\n",
    "        Xbatch = X_train_tensor[i:i+batch_size]\n",
    "        y_train_pred = model(Xbatch) # .type(torch.int32)\n",
    "        ybatch = y_train_tensor[i:i+batch_size]\n",
    "        loss = loss_fn(y_train_pred, ybatch)\n",
    "        optimizer.zero_grad()\n",
    "        loss.backward()\n",
    "        optimizer.step()\n",
    "    print(f'Finished epoch {epoch}, latest loss {loss}')\n",
    "    y_test_pred = model(X_test_tensor)\n",
    "    y_test_tensor = torch.tensor(y_test, dtype=torch.float32).reshape(-1, 1).to(device)\n",
    "    ce = loss_fn(y_test_pred, y_test_tensor)\n",
    "    acc = (y_test_pred.round() == y_test_tensor).float().mean()\n",
    "    if float(acc) > best_acc:\n",
    "        best_acc = float(acc)\n",
    "        best_weights = copy.deepcopy(model.state_dict())\n",
    "    print(f\"Epoch {epoch} validation: Cross-entropy={float(ce)}, Accuracy={float(acc)}\")\n",
    "\n",
    "model.load_state_dict(best_weights) # 留下最好的模型\n",
    "print(best_acc)"
   ]
  },
  {
   "cell_type": "markdown",
   "id": "28b9e9f4",
   "metadata": {},
   "source": [
    "# 评估模型"
   ]
  },
  {
   "cell_type": "code",
   "execution_count": 10,
   "id": "3363b05c",
   "metadata": {},
   "outputs": [
    {
     "name": "stdout",
     "output_type": "stream",
     "text": [
      "Accuracy 0.9746289253234863\n"
     ]
    }
   ],
   "source": [
    "# compute accuracy (no_grad is optional)\n",
    "with torch.no_grad():\n",
    "    y_test_pred = model(X_test_tensor)\n",
    "accuracy = (y_test_pred.round() == y_test_tensor).float().mean()\n",
    "print(f\"Accuracy {accuracy}\")"
   ]
  }
 ],
 "metadata": {
  "kernelspec": {
   "display_name": "Python 3",
   "language": "python",
   "name": "python3"
  },
  "language_info": {
   "codemirror_mode": {
    "name": "ipython",
    "version": 3
   },
   "file_extension": ".py",
   "mimetype": "text/x-python",
   "name": "python",
   "nbconvert_exporter": "python",
   "pygments_lexer": "ipython3",
   "version": "3.11.13"
  }
 },
 "nbformat": 4,
 "nbformat_minor": 5
}

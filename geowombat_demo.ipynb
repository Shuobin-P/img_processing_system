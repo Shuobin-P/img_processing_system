{
 "cells": [
  {
   "cell_type": "code",
   "execution_count": null,
   "id": "c1fbe8fc",
   "metadata": {},
   "outputs": [],
   "source": [
    "import numpy as np\n",
    "x = np.linspace(-90, 90, 6)\n",
    "y = np.linspace(90, -90, 6)\n",
    "print(x)\n",
    "print(y)\n",
    "X, Y = np.meshgrid(x, y)\n",
    "print(\"X:\")\n",
    "print(X)\n",
    "print(\"Y:\")\n",
    "print(Y)"
   ]
  },
  {
   "cell_type": "code",
   "execution_count": null,
   "id": "a5f236f0",
   "metadata": {},
   "outputs": [],
   "source": [
    "import matplotlib.pyplot as plt\n",
    "\n",
    "Z1 =  np.abs(((X - 10) ** 2 + (Y - 10) ** 2) / 1 ** 2)\n",
    "Z2 =  np.abs(((X + 10) ** 2 + (Y + 10) ** 2) / 2.5 ** 2)\n",
    "Z =  (Z1 - Z2)\n",
    "#plt.imshow(Z)\n",
    "plt.title(\"Temperature\")\n",
    "\n",
    "my_matirx = [\n",
    "    [1,0,1],\n",
    "    [0,1,0]\n",
    "]\n",
    "plt.imshow(my_matirx)\n",
    "\n",
    "img = np.random.rand(3, 3, 3)\n",
    "plt.imshow(img)\n",
    "plt.show()\n",
    "print(img)\n"
   ]
  },
  {
   "cell_type": "code",
   "execution_count": null,
   "id": "9268dd91",
   "metadata": {},
   "outputs": [],
   "source": [
    "from rasterio.transform import Affine\n",
    "import rasterio as rio\n",
    "\n",
    "res = (x[-1] - x[0]) / 240.0\n",
    "transform = Affine.translation(x[0] - res / 2, y[0] - res / 2) * Affine.scale(res, res)\n",
    "\n",
    "# open in 'write' mode, unpack profile info to dst\n",
    "with rio.open(\n",
    "    \"../temp/new_raster.tif\",\n",
    "    \"w\",\n",
    "    driver=\"GTiff\",         # output file type\n",
    "    height=Z.shape[0],      # shape of array\n",
    "    width=Z.shape[1],\n",
    "    count=1,                # number of bands\n",
    "    dtype=Z.dtype,          # output datatype\n",
    "    crs=\"+proj=latlong\",    # CRS\n",
    "    transform=transform,    # location and resolution of upper left cell\n",
    ") as dst:\n",
    "    # check for number of bands\n",
    "    if dst.count == 1:\n",
    "        # write single band\n",
    "        dst.write(Z, 1)\n",
    "    else:\n",
    "        # write each band individually\n",
    "        for band in range(len(Z)):\n",
    "            # write data, band # (starting from 1)\n",
    "            dst.write(Z[band], band + 1)"
   ]
  },
  {
   "cell_type": "code",
   "execution_count": 1,
   "id": "4e33ada1",
   "metadata": {},
   "outputs": [
    {
     "name": "stderr",
     "output_type": "stream",
     "text": [
      "d:\\Project\\VsCode\\Python\\img_processing_system\\.conda\\Lib\\site-packages\\tqdm\\auto.py:21: TqdmWarning: IProgress not found. Please update jupyter and ipywidgets. See https://ipywidgets.readthedocs.io/en/stable/user_install.html\n",
      "  from .autonotebook import tqdm as notebook_tqdm\n"
     ]
    },
    {
     "name": "stdout",
     "output_type": "stream",
     "text": [
      "<xarray.DataArray (band: 3, y: 1860, x: 2041)> Size: 23MB\n",
      "dask.array<open_rasterio-adcdc0522fcd5d703aeef1f517c66348<this-array>, shape=(3, 1860, 2041), dtype=uint16, chunksize=(3, 256, 256), chunktype=numpy.ndarray>\n",
      "Coordinates:\n",
      "  * band     (band) int32 12B 1 2 3\n",
      "  * x        (x) float64 16kB 7.174e+05 7.174e+05 ... 7.785e+05 7.786e+05\n",
      "  * y        (y) float64 15kB -2.777e+06 -2.777e+06 ... -2.833e+06 -2.833e+06\n",
      "Attributes: (12/13)\n",
      "    transform:           (30.0, 0.0, 717345.0, 0.0, -30.0, -2776995.0)\n",
      "    crs:                 32621\n",
      "    res:                 (30.0, 30.0)\n",
      "    is_tiled:            1\n",
      "    nodatavals:          (nan, nan, nan)\n",
      "    _FillValue:          nan\n",
      "    ...                  ...\n",
      "    offsets:             (0.0, 0.0, 0.0)\n",
      "    filename:            d:\\Project\\VsCode\\Python\\img_processing_system\\.cond...\n",
      "    resampling:          nearest\n",
      "    AREA_OR_POINT:       Area\n",
      "    _data_are_separate:  0\n",
      "    _data_are_stacked:   0\n"
     ]
    }
   ],
   "source": [
    "import geowombat as gw\n",
    "from geowombat.data import l8_224078_20200518\n",
    "import matplotlib.pyplot as plt\n",
    "\n",
    "with gw.open(l8_224078_20200518) as src:\n",
    "    print(src)"
   ]
  }
 ],
 "metadata": {
  "kernelspec": {
   "display_name": ".conda",
   "language": "python",
   "name": "python3"
  },
  "language_info": {
   "codemirror_mode": {
    "name": "ipython",
    "version": 3
   },
   "file_extension": ".py",
   "mimetype": "text/x-python",
   "name": "python",
   "nbconvert_exporter": "python",
   "pygments_lexer": "ipython3",
   "version": "3.11.13"
  }
 },
 "nbformat": 4,
 "nbformat_minor": 5
}

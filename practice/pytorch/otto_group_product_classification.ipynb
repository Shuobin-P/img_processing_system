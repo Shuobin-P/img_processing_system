{
 "cells": [
  {
   "cell_type": "code",
   "execution_count": 1,
   "id": "742e564a",
   "metadata": {},
   "outputs": [],
   "source": [
    "import pandas as pd\n",
    "train_df = pd.read_csv(r\"D:\\Projects\\VsCode\\Python\\img_processing_system\\practice\\pytorch\\data\\otto_group_product\\train.csv\")\n",
    "test_df = pd.read_csv(r\"D:\\Projects\\VsCode\\Python\\img_processing_system\\practice\\pytorch\\data\\otto_group_product\\test.csv\")"
   ]
  },
  {
   "cell_type": "code",
   "execution_count": 2,
   "id": "406968fd",
   "metadata": {},
   "outputs": [],
   "source": [
    "import torch\n",
    "from sklearn.feature_selection import SelectKBest\n",
    "from sklearn.preprocessing import LabelEncoder\n",
    "from sklearn.preprocessing import OneHotEncoder\n",
    "\n",
    "device = torch.accelerator.current_accelerator().type if torch.accelerator.is_available() else \"cpu\"\n",
    "X = train_df[train_df.columns.difference([\"id\", \"target\"])]\n",
    "ohe = OneHotEncoder(handle_unknown='ignore', sparse_output=False).fit(train_df.iloc[:, 94:])\n",
    "y = ohe.transform(train_df.iloc[:, 94:])\n",
    "selector = SelectKBest(k=65).fit(X, LabelEncoder().fit_transform(train_df[\"target\"])) # 再往上加特征数，模型的效果提升很小\n",
    "selected_features = selector.get_feature_names_out()\n",
    "X_selected_features_data = X.loc[:, selected_features]\n",
    "\n",
    "X_tensor = torch.tensor(X_selected_features_data.values, dtype=torch.float32).to(device)\n",
    "y_tensor = torch.tensor(y, dtype=torch.float32).to(device)\n"
   ]
  },
  {
   "cell_type": "code",
   "execution_count": 3,
   "id": "fbcc4752",
   "metadata": {},
   "outputs": [
    {
     "data": {
      "text/plain": [
       "Multiclass(\n",
       "  (hidden): Linear(in_features=65, out_features=40, bias=True)\n",
       "  (act): ReLU()\n",
       "  (output): Linear(in_features=40, out_features=9, bias=True)\n",
       ")"
      ]
     },
     "execution_count": 3,
     "metadata": {},
     "output_type": "execute_result"
    }
   ],
   "source": [
    "import torch.nn as nn\n",
    "\n",
    "class Multiclass(nn.Module):\n",
    "    def __init__(self):\n",
    "        super().__init__()\n",
    "        self.hidden = nn.Linear(len(selected_features), 40)\n",
    "        self.act = nn.ReLU()\n",
    "        self.output = nn.Linear(40, 9)\n",
    "        \n",
    "    def forward(self, x):\n",
    "        x = self.act(self.hidden(x))\n",
    "        x = self.output(x)\n",
    "        return x\n",
    "    \n",
    "model = Multiclass()\n",
    "model.to(device)"
   ]
  },
  {
   "cell_type": "code",
   "execution_count": 4,
   "id": "d7e22efd",
   "metadata": {},
   "outputs": [],
   "source": [
    "import torch.optim as optim\n",
    "\n",
    "loss_fn = nn.CrossEntropyLoss()\n",
    "optimizer = optim.Adam(model.parameters(), lr=0.001)"
   ]
  },
  {
   "cell_type": "code",
   "execution_count": 5,
   "id": "1354b9f3",
   "metadata": {},
   "outputs": [],
   "source": [
    "from sklearn.model_selection import train_test_split\n",
    "\n",
    "X_train, X_test, y_train, y_test = train_test_split(X_tensor, y_tensor, train_size=0.7, shuffle=True)"
   ]
  },
  {
   "cell_type": "markdown",
   "id": "ae1bad92",
   "metadata": {},
   "source": [
    "# 问题：6m8s才完成42轮"
   ]
  },
  {
   "cell_type": "code",
   "execution_count": null,
   "id": "ac8a224b",
   "metadata": {},
   "outputs": [
    {
     "name": "stdout",
     "output_type": "stream",
     "text": [
      "43314\n"
     ]
    },
    {
     "name": "stderr",
     "output_type": "stream",
     "text": [
      "C:\\Users\\31204\\AppData\\Local\\Temp\\ipykernel_23028\\1741193696.py:31: UserWarning: Converting a tensor with requires_grad=True to a scalar may lead to unexpected behavior.\n",
      "Consider using tensor.detach() first. (Triggered internally at C:\\actions-runner\\_work\\pytorch\\pytorch\\pytorch\\torch\\csrc\\autograd\\generated\\python_variable_methods.cpp:836.)\n",
      "  print(f\"Epoch {epoch} validation: Cross-entropy={float(ce)}, Accuracy={float(acc)}\")\n"
     ]
    },
    {
     "name": "stdout",
     "output_type": "stream",
     "text": [
      "Epoch 0 validation: Cross-entropy=0.6296306848526001, Accuracy=0.762389600276947\n",
      "Epoch 1 validation: Cross-entropy=0.6083589196205139, Accuracy=0.7696078419685364\n",
      "Epoch 2 validation: Cross-entropy=0.5977919697761536, Accuracy=0.7723012566566467\n",
      "Epoch 3 validation: Cross-entropy=0.6003997921943665, Accuracy=0.7706313133239746\n",
      "Epoch 4 validation: Cross-entropy=0.5999757051467896, Accuracy=0.7726244330406189\n",
      "Epoch 5 validation: Cross-entropy=0.601300835609436, Accuracy=0.7727321982383728\n",
      "Epoch 6 validation: Cross-entropy=0.6001300811767578, Accuracy=0.7747252583503723\n",
      "Epoch 7 validation: Cross-entropy=0.5989786386489868, Accuracy=0.7749407291412354\n",
      "Epoch 8 validation: Cross-entropy=0.6031131744384766, Accuracy=0.7743481993675232\n",
      "Epoch 9 validation: Cross-entropy=0.6035953760147095, Accuracy=0.774025022983551\n",
      "0.7749407291412354\n"
     ]
    }
   ],
   "source": [
    "import copy\n",
    "import numpy as np\n",
    "# training parameters\n",
    "best_acc = - np.inf \n",
    "best_weights = None\n",
    "n_epochs = 10\n",
    "# n_epochs = 200\n",
    "batch_size = 5\n",
    "batches_per_epoch = len(X_train) # batch_size\n",
    "print(batches_per_epoch)\n",
    "for epoch in range(n_epochs): \n",
    "    for i in range(0, batches_per_epoch, batch_size):\n",
    "        # take a batch\n",
    "        start = i\n",
    "        X_batch = X_train[start:start+batch_size]\n",
    "        y_batch = y_train[start:start+batch_size]\n",
    "        # forward pass\n",
    "        y_pred = model(X_batch)\n",
    "        loss = loss_fn(y_pred, y_batch)\n",
    "        # backward pass\n",
    "        optimizer.zero_grad()\n",
    "        loss.backward()\n",
    "        # update weights\n",
    "        optimizer.step()\n",
    "    y_pred = model(X_test)\n",
    "    ce = loss_fn(y_pred, y_test)\n",
    "    acc = (torch.argmax(y_pred, 1) == torch.argmax(y_test, 1)).float().mean()\n",
    "    if float(acc) > best_acc:\n",
    "        best_acc = float(acc)\n",
    "        best_weights = copy.deepcopy(model.state_dict())\n",
    "    print(f\"Epoch {epoch} validation: Cross-entropy={float(ce)}, Accuracy={float(acc)}\")\n",
    "\n",
    "model.load_state_dict(best_weights) # 留下最好的模型\n",
    "print(best_acc)"
   ]
  },
  {
   "cell_type": "code",
   "execution_count": 7,
   "id": "d2747bac",
   "metadata": {},
   "outputs": [],
   "source": [
    "X = test_df[test_df.columns.difference([\"id\"])]\n",
    "X_selected_features_data = X.loc[:, selected_features]\n",
    "X_tensor = torch.tensor(X_selected_features_data.values, dtype=torch.float32).to(device)\n",
    "\n",
    "y_pred = model(X_tensor)\n",
    "max_ele_idx = torch.argmax(y_pred, 1) # 获得每行最大的元素的下标\n",
    "# 请根据max_ele_idx，生成一个与下面格式相同的csv文件，例如：max_ele_idx第一个元素的值是3，说明id=1时，Class_4=1，其余均为0；max_ele_idx第二个元素的值是7，说明id=2时，Class_8=1，其余均为0。\n",
    "# id,Class_1,Class_2,Class_3,Class_4,Class_5,Class_6,Class_7,Class_8,Class_9\n",
    "# 1,1,0,0,0,0,0,0,0,0\n",
    "# 2,1,0,0,0,0,0,0,0,0\n",
    "# 先构造一个DataFrame，然后把toCSV()\n",
    "sample_df = pd.read_csv(r\"D:\\Projects\\VsCode\\Python\\img_processing_system\\practice\\pytorch\\data\\otto_group_product\\sampleSubmission.csv\")\n",
    "res_df = pd.DataFrame(columns=sample_df.columns)\n",
    "for i in range(1, len(y_pred) + 1):\n",
    "    tmp_arr = [i, 0,0,0,0,0,0,0,0,0]\n",
    "    tmp_arr[max_ele_idx[i-1].item() + 1] = 1\n",
    "    res_df.loc[i-1] = tmp_arr\n",
    "res_df.to_csv(r\"D:\\Projects\\VsCode\\Python\\img_processing_system\\practice\\pytorch\\data\\otto_group_product\\result.csv\", index= False)"
   ]
  }
 ],
 "metadata": {
  "kernelspec": {
   "display_name": "Python 3",
   "language": "python",
   "name": "python3"
  },
  "language_info": {
   "codemirror_mode": {
    "name": "ipython",
    "version": 3
   },
   "file_extension": ".py",
   "mimetype": "text/x-python",
   "name": "python",
   "nbconvert_exporter": "python",
   "pygments_lexer": "ipython3",
   "version": "3.11.13"
  }
 },
 "nbformat": 4,
 "nbformat_minor": 5
}

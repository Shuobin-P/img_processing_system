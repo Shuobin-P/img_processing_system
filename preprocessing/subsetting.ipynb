{
 "cells": [
  {
   "cell_type": "markdown",
   "id": "f20c4ae1",
   "metadata": {},
   "source": [
    "# 裁剪方法一"
   ]
  },
  {
   "cell_type": "code",
   "execution_count": 18,
   "id": "dd4f4d1b",
   "metadata": {},
   "outputs": [],
   "source": [
    "from osgeo import gdal\n",
    "import os\n",
    "\n",
    "os.chdir(r'D:\\Projects\\VsCode\\Python\\img_processing_system\\qgis_image\\naip\\m_4211161_se_12_1_20160624') \n",
    "fn = 'm_4211161_se_12_1_20160624.tif' \n",
    "\n",
    "fn_ds = gdal.Open(fn)\n",
    "gtiff_driver = gdal.GetDriverByName('GTiff') \n",
    "res_ds = gtiff_driver.Create(\"m_4211161_se_12_1_20160624_subset.tif\", 5834, 2000, bands = fn_ds.RasterCount)\n",
    "res_ds.SetProjection(fn_ds.GetProjection()) \n",
    "gt = fn_ds.GetGeoTransform()\n",
    "offset_x, offset_y = 0, 2528\n",
    "new_gt = ( # 计算得到m_4211161_se_12_1_20160624_subset.tif左上角的坐标\n",
    "    gt[0] + offset_x * gt[1],\n",
    "    gt[1],\n",
    "    gt[2],\n",
    "    gt[3] + offset_y * gt[5],\n",
    "    gt[4],\n",
    "    gt[5]\n",
    ")\n",
    "res_ds.SetGeoTransform(new_gt)\n",
    "for i in range(1,fn_ds.RasterCount+1): \n",
    "    in_band = fn_ds.GetRasterBand(i)\n",
    "    in_band_arr = in_band.ReadAsArray(offset_x, offset_y, win_xsize=5834, win_ysize=2000)\n",
    "    res_ds.GetRasterBand(i).WriteArray(in_band_arr)\n",
    "\n",
    "res_ds.FlushCache() \n",
    "\n",
    "for i in range(1, res_ds.RasterCount + 1):\n",
    "    src_band = fn_ds.GetRasterBand(i)\n",
    "    min_val, max_val = src_band.ComputeRasterMinMax(False)\n",
    "    dst_band = res_ds.GetRasterBand(i)\n",
    "    dst_band.SetStatistics(min_val, max_val, 0, 0)\n",
    "\n",
    "del res_ds, fn_ds"
   ]
  },
  {
   "cell_type": "markdown",
   "id": "dbd52199",
   "metadata": {},
   "source": [
    "## 存在的问题：在qgis中打开这两张图片，在颜色上，m_4211161_se_12_1_20160624_subset.tif比m_4211161_se_12_1_20160624.tif更淡"
   ]
  },
  {
   "cell_type": "markdown",
   "id": "05913af3",
   "metadata": {},
   "source": [
    "# 裁剪方法二"
   ]
  },
  {
   "cell_type": "code",
   "execution_count": 20,
   "id": "ce0d9890",
   "metadata": {},
   "outputs": [
    {
     "data": {
      "text/plain": [
       "<osgeo.gdal.Dataset; proxy of <Swig Object of type 'GDALDatasetShadow *' at 0x0000018CF1B9E0A0> >"
      ]
     },
     "execution_count": 20,
     "metadata": {},
     "output_type": "execute_result"
    }
   ],
   "source": [
    "from osgeo import gdal\n",
    "import os\n",
    "\n",
    "os.chdir(r'D:\\Projects\\VsCode\\Python\\img_processing_system\\qgis_image\\naip\\m_4211161_se_12_1_20160624') \n",
    "src_file = 'm_4211161_se_12_1_20160624.tif'\n",
    "dst_file = 'm_4211161_se_12_1_20160624_subset.tif'\n",
    "\n",
    "gdal.Translate(\n",
    "    dst_file,\n",
    "    src_file,\n",
    "    srcWin=[0, 2528, 5834, 2000]  # x_offset, y_offset, width, height\n",
    ")"
   ]
  }
 ],
 "metadata": {
  "kernelspec": {
   "display_name": "Python 3",
   "language": "python",
   "name": "python3"
  },
  "language_info": {
   "codemirror_mode": {
    "name": "ipython",
    "version": 3
   },
   "file_extension": ".py",
   "mimetype": "text/x-python",
   "name": "python",
   "nbconvert_exporter": "python",
   "pygments_lexer": "ipython3",
   "version": "3.11.13"
  }
 },
 "nbformat": 4,
 "nbformat_minor": 5
}

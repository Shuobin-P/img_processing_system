{
 "cells": [
  {
   "cell_type": "code",
   "execution_count": 1,
   "id": "35106798",
   "metadata": {},
   "outputs": [
    {
     "name": "stdout",
     "output_type": "stream",
     "text": [
      "Bombo 75000 32.533299524864844 0.5832991056146284\n",
      "Fort Portal 42670 30.27500161597942 0.671004121125236\n",
      "Potenza 69060 15.798996495640267 40.642002130098206\n",
      "Campobasso 50762 14.655996558921856 41.56299911864397\n",
      "Aosta 34062 7.315002595706176 45.7370010670723\n",
      "Mariehamn 10682 19.949004471869102 60.09699618489543\n",
      "Ramallah 24599 35.206209378189556 31.90294475142406\n",
      "Vatican City 832 12.453386544971766 41.903282179960115\n",
      "Poitier 85960 0.3332765285345545 46.58329225573658\n",
      "Clermont-Ferrand 233050 3.080008095928406 45.779982115759424\n"
     ]
    }
   ],
   "source": [
    "import sys\n",
    "from osgeo import ogr\n",
    "fn = r'D:\\Projects\\VsCode\\Python\\img_processing_system\\osgeopy-data\\global\\ne_50m_populated_places.shp'\n",
    "ds = ogr.Open(fn, 0)                                                   \n",
    "if ds is None:                                                          \n",
    "    sys.exit('Could not open {0}.'.format(fn))                           \n",
    "lyr = ds.GetLayer(0)   \n",
    "i = 0\n",
    "for feat in lyr:\n",
    "    pt = feat.geometry()                                               \n",
    "    x = pt.GetX()                                                        \n",
    "    y = pt.GetY()                                                      \n",
    "    name = feat.GetField('NAME')                                       \n",
    "    pop = feat.GetField('POP_MAX')                                     \n",
    "    print(name, pop, x, y)\n",
    "    i += 1\n",
    "    if i == 10:\n",
    "        break\n",
    "del ds   "
   ]
  }
 ],
 "metadata": {
  "kernelspec": {
   "display_name": "Python 3",
   "language": "python",
   "name": "python3"
  },
  "language_info": {
   "codemirror_mode": {
    "name": "ipython",
    "version": 3
   },
   "file_extension": ".py",
   "mimetype": "text/x-python",
   "name": "python",
   "nbconvert_exporter": "python",
   "pygments_lexer": "ipython3",
   "version": "3.11.13"
  }
 },
 "nbformat": 4,
 "nbformat_minor": 5
}

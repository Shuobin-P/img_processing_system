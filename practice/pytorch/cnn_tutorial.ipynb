{
 "cells": [
  {
   "cell_type": "code",
   "execution_count": 23,
   "id": "62c6f5f5",
   "metadata": {},
   "outputs": [
    {
     "name": "stdout",
     "output_type": "stream",
     "text": [
      "Epoch 0: model accuracy 35.31%\n",
      "Epoch 1: model accuracy 42.36%\n",
      "Epoch 2: model accuracy 46.65%\n",
      "Epoch 3: model accuracy 49.56%\n",
      "Epoch 4: model accuracy 51.64%\n",
      "Epoch 5: model accuracy 53.23%\n",
      "Epoch 6: model accuracy 53.48%\n",
      "Epoch 7: model accuracy 55.85%\n",
      "Epoch 8: model accuracy 56.65%\n",
      "Epoch 9: model accuracy 58.27%\n",
      "Epoch 10: model accuracy 59.21%\n",
      "Epoch 11: model accuracy 59.45%\n",
      "Epoch 12: model accuracy 60.87%\n",
      "Epoch 13: model accuracy 60.20%\n",
      "Epoch 14: model accuracy 60.90%\n",
      "Epoch 15: model accuracy 62.00%\n",
      "Epoch 16: model accuracy 61.35%\n",
      "Epoch 17: model accuracy 62.15%\n",
      "Epoch 18: model accuracy 62.66%\n",
      "Epoch 19: model accuracy 62.65%\n"
     ]
    }
   ],
   "source": [
    "import torch\n",
    "import torch.nn as nn\n",
    "import torch.optim as optim\n",
    "import torchvision\n",
    "\n",
    "transform = torchvision.transforms.Compose([torchvision.transforms.ToTensor()])\n",
    "\n",
    "trainset = torchvision.datasets.CIFAR10(root='./data/cifar10', train=True, download=True, transform=transform)\n",
    "testset = torchvision.datasets.CIFAR10(root='./data/cifar10', train=False, download=True, transform=transform)\n",
    "\n",
    "batch_size = 32\n",
    "\n",
    "trainloader = torch.utils.data.DataLoader(trainset, batch_size=batch_size, shuffle=True)\n",
    "testloader = torch.utils.data.DataLoader(testset, batch_size=batch_size, shuffle=True)\n",
    "\n",
    "device = torch.accelerator.current_accelerator().type if torch.accelerator.is_available() else \"cpu\"\n",
    "class CIFAR10Model(nn.Module):\n",
    "    def __init__(self):\n",
    "        super().__init__()\n",
    "        self.conv1 = nn.Conv2d(3, 32, kernel_size=(3,3), stride=1, padding=1) # 疑问：out_channels如何填？out_channels=band数*kernel_size，即3*3*3=27\n",
    "        self.act1 = nn.ReLU()\n",
    "        self.drop1 = nn.Dropout(0.3)\n",
    "\n",
    "        self.conv2 = nn.Conv2d(32, 32, kernel_size=(3,3), stride=1, padding=1) # out_channels与in_channels保持一致\n",
    "        self.act2 = nn.ReLU()\n",
    "\n",
    "        self.pool2 = nn.MaxPool2d(kernel_size=(2, 2))\n",
    "\n",
    "        self.flat = nn.Flatten()\n",
    "\n",
    "        self.fc3 = nn.Linear(8192, 512) # in_features：上一层的output。out_features：随便？\n",
    "        self.act3 = nn.ReLU()\n",
    "        self.drop3 = nn.Dropout(0.5)\n",
    "\n",
    "        self.fc4 = nn.Linear(512, 10)\n",
    "\n",
    "    def forward(self, x):\n",
    "        # input 3x32x32, output 32x32x32\n",
    "        x = self.act1(self.conv1(x))\n",
    "        x = self.drop1(x)\n",
    "        # input 32x32x32, output 32x32x32\n",
    "        x = self.act2(self.conv2(x))\n",
    "        # input 32x32x32, output 32x16x16\n",
    "        x = self.pool2(x)\n",
    "        # input 32x16x16, output 8192\n",
    "        x = self.flat(x)\n",
    "        # input 8192, output 512\n",
    "        x = self.act3(self.fc3(x))\n",
    "        x = self.drop3(x)\n",
    "        # input 512, output 10\n",
    "        x = self.fc4(x)\n",
    "        return x\n",
    "\n",
    "model = CIFAR10Model()\n",
    "model.to(device)\n",
    "loss_fn = nn.CrossEntropyLoss()\n",
    "optimizer = optim.SGD(model.parameters(), lr=0.001, momentum=0.9)\n",
    "\n",
    "n_epochs = 20\n",
    "for epoch in range(n_epochs):\n",
    "    for inputs, labels in trainloader:\n",
    "        # forward, backward, and then weight update\n",
    "        y_pred = model(inputs.to(device)).to(device)\n",
    "        loss = loss_fn(y_pred, labels.to(device))\n",
    "        optimizer.zero_grad()\n",
    "        loss.backward()\n",
    "        optimizer.step()\n",
    "\n",
    "    acc = 0\n",
    "    count = 0\n",
    "    for inputs, labels in testloader:\n",
    "        y_pred = model(inputs.to(device)).to(device)\n",
    "        acc += (torch.argmax(y_pred, 1) == labels.to(device)).float().sum()\n",
    "        count += len(labels)\n",
    "    acc /= count\n",
    "    print(\"Epoch %d: model accuracy %.2f%%\" % (epoch, acc*100))\n",
    "\n",
    "torch.save(model.state_dict(), \"cifar10model.pth\")\n"
   ]
  },
  {
   "cell_type": "markdown",
   "id": "d93be7b7",
   "metadata": {},
   "source": [
    "# CPU：2min30s完成两轮；GPU：20s完成2轮，3m24.7s完成20轮。"
   ]
  },
  {
   "cell_type": "code",
   "execution_count": 5,
   "id": "148991c0",
   "metadata": {},
   "outputs": [
    {
     "data": {
      "image/png": "[encoded data removed]",
      "text/plain": [
       "<Figure size 640x480 with 1 Axes>"
      ]
     },
     "metadata": {},
     "output_type": "display_data"
    }
   ],
   "source": [
    "import matplotlib.pyplot as plt\n",
    "\n",
    "plt.imshow(trainset.data[7])\n",
    "plt.show()"
   ]
  },
  {
   "cell_type": "code",
   "execution_count": 8,
   "id": "a5994fc0",
   "metadata": {},
   "outputs": [],
   "source": [
    "X = torch.tensor([trainset.data[7]], dtype=torch.float32).permute(0,3,1,2).to(device)\n",
    "model.eval()\n",
    "with torch.no_grad():\n",
    "    feature_maps = model.conv1(X)"
   ]
  },
  {
   "cell_type": "markdown",
   "id": "0e639d49",
   "metadata": {},
   "source": [
    "# 问题：你咋训练自己的模型？\n",
    "你没有那么多单张描述某个物体的图，一张遥感影像中同时存在许多不同的物体。\n",
    "答：在obia中每张图片分成了很多segment，有部分segment有land cover。所有有landcover的segment，可以划分为训练集和测试集。然后预测所有segment对应的分类。\n",
    "\n",
    "确认这个是否正确：在obia中每张图片分成了很多segment。如何获得已分类的segment以及它的land cover。但是每个segment不是固定的shape"
   ]
  }
 ],
 "metadata": {
  "kernelspec": {
   "display_name": "Python 3",
   "language": "python",
   "name": "python3"
  },
  "language_info": {
   "codemirror_mode": {
    "name": "ipython",
    "version": 3
   },
   "file_extension": ".py",
   "mimetype": "text/x-python",
   "name": "python",
   "nbconvert_exporter": "python",
   "pygments_lexer": "ipython3",
   "version": "3.11.13"
  }
 },
 "nbformat": 4,
 "nbformat_minor": 5
}

{
 "cells": [
  {
   "cell_type": "code",
   "execution_count": 1,
   "id": "4236f2b5",
   "metadata": {},
   "outputs": [],
   "source": [
    "from osgeo import gdal\n",
    "import os\n",
    "import matplotlib.pyplot as plt\n",
    "\n",
    "\n",
    "os.chdir(r'D:\\Projects\\VsCode\\Python\\img_processing_system\\osgeopy-data\\Landsat\\Washington') \n",
    "band1_fn = 'p047r027_7t20000730_z10_nn10.tif' \n",
    "\n",
    "in_ds = gdal.Open(band1_fn)\n",
    "in_band = in_ds.GetRasterBand(1)\n",
    "in_band_arr = in_band.ReadAsArray(1000, 1000, 3000, 3000)\n",
    "\n",
    "gtiff_driver = gdal.GetDriverByName('GTiff') \n",
    "res_ds = gtiff_driver.Create(\"my_img.tif\", 3000,3000, bands = 1)\n",
    "res_ds.GetRasterBand(1).WriteArray(in_band_arr)\n",
    "\n",
    "res_ds.FlushCache() \n",
    "\n",
    "del res_ds\n",
    "\n"
   ]
  },
  {
   "cell_type": "code",
   "execution_count": 2,
   "id": "00460d0a",
   "metadata": {},
   "outputs": [],
   "source": [
    "from osgeo import gdal\n",
    "import os\n",
    "os.chdir(r'D:\\Projects\\VsCode\\Python\\img_processing_system\\osgeopy-data\\Landsat\\Washington') \n",
    "\n",
    "in_ds = gdal.Open(\"p047r027_7t20000730_z10_nn10.tif\")\n",
    "\n",
    "row_len = in_ds.GetRasterBand(1).YSize * 2\n",
    "col_len = in_ds.GetRasterBand(1).XSize * 2\n",
    "\n",
    "gtiff_driver = gdal.GetDriverByName('GTiff')\n",
    "res_ds = gtiff_driver.Create(\"p047r027_7t20000730_z10_nn10.tif_more_pixels.tif\", col_len, row_len, bands = 1)\n",
    "res_ds.SetProjection(in_ds.GetProjection()) \n",
    "\n",
    "geotransform = list(in_ds.GetGeoTransform()) \n",
    "geotransform [1] /= 2 \n",
    "geotransform [5] /= 2 \n",
    "res_ds.SetGeoTransform(geotransform)\n",
    "\n",
    "# ReadAsArray为什么能读这么多？没看懂\n",
    "# in_ds.GetRasterBand(1)的长和宽都只有col_len，row_len的一半，buf_xsize是指在输出的array的长度\n",
    "# 这个WriteArray应该是做了一些处理\n",
    "res_ds.GetRasterBand(1).WriteArray(in_ds.GetRasterBand(1).ReadAsArray(buf_xsize=col_len, buf_ysize=row_len))\n",
    "\n",
    "res_ds.FlushCache() \n",
    "\n",
    "del res_ds"
   ]
  },
  {
   "cell_type": "code",
   "execution_count": 3,
   "id": "aba8cecd",
   "metadata": {},
   "outputs": [
    {
     "ename": "TypeError",
     "evalue": "in method 'wrapper_GDALWarpDestName', argument 4 of type 'GDALWarpAppOptions *'",
     "output_type": "error",
     "traceback": [
      "\u001b[31m---------------------------------------------------------------------------\u001b[39m",
      "\u001b[31mTypeError\u001b[39m                                 Traceback (most recent call last)",
      "\u001b[36mCell\u001b[39m\u001b[36m \u001b[39m\u001b[32mIn[3]\u001b[39m\u001b[32m, line 19\u001b[39m\n\u001b[32m     16\u001b[39m dst_ysize = src_ysize * \u001b[32m2\u001b[39m\n\u001b[32m     18\u001b[39m \u001b[38;5;66;03m# 使用gdal.Warp进行重采样\u001b[39;00m\n\u001b[32m---> \u001b[39m\u001b[32m19\u001b[39m \u001b[43mgdal\u001b[49m\u001b[43m.\u001b[49m\u001b[43mWarp\u001b[49m\u001b[43m(\u001b[49m\n\u001b[32m     20\u001b[39m \u001b[43m    \u001b[49m\u001b[43moutput_file\u001b[49m\u001b[43m,\u001b[49m\n\u001b[32m     21\u001b[39m \u001b[43m    \u001b[49m\u001b[43msrc_ds\u001b[49m\u001b[43m,\u001b[49m\n\u001b[32m     22\u001b[39m \u001b[43m    \u001b[49m\u001b[43mwidth\u001b[49m\u001b[43m=\u001b[49m\u001b[43mdst_xsize\u001b[49m\u001b[43m,\u001b[49m\n\u001b[32m     23\u001b[39m \u001b[43m    \u001b[49m\u001b[43mheight\u001b[49m\u001b[43m=\u001b[49m\u001b[43mdst_ysize\u001b[49m\u001b[43m,\u001b[49m\n\u001b[32m     24\u001b[39m \u001b[43m    \u001b[49m\u001b[43mresampleAlg\u001b[49m\u001b[43m=\u001b[49m\u001b[33;43m'\u001b[39;49m\u001b[33;43mbilinear\u001b[39;49m\u001b[33;43m'\u001b[39;49m\u001b[43m,\u001b[49m\u001b[43m  \u001b[49m\u001b[38;5;66;43;03m# 可选: 'nearest', 'bilinear', 'cubic'等\u001b[39;49;00m\n\u001b[32m     25\u001b[39m \u001b[43m    \u001b[49m\u001b[43moutputBounds\u001b[49m\u001b[43m=\u001b[49m\u001b[38;5;28;43;01mNone\u001b[39;49;00m\u001b[43m,\u001b[49m\n\u001b[32m     26\u001b[39m \u001b[43m    \u001b[49m\u001b[43mdstSRS\u001b[49m\u001b[43m=\u001b[49m\u001b[43msrc_proj\u001b[49m\n\u001b[32m     27\u001b[39m \u001b[43m)\u001b[49m\n",
      "\u001b[36mFile \u001b[39m\u001b[32md:\\Projects\\VsCode\\Python\\img_processing_system\\.conda\\Lib\\site-packages\\osgeo\\gdal.py:788\u001b[39m, in \u001b[36mWarp\u001b[39m\u001b[34m(destNameOrDestDS, srcDSOrSrcDSTab, **kwargs)\u001b[39m\n\u001b[32m    785\u001b[39m     srcDSTab = [srcDSOrSrcDSTab]\n\u001b[32m    787\u001b[39m \u001b[38;5;28;01mif\u001b[39;00m \u001b[38;5;28misinstance\u001b[39m(destNameOrDestDS, \u001b[38;5;28mstr\u001b[39m):\n\u001b[32m--> \u001b[39m\u001b[32m788\u001b[39m     \u001b[38;5;28;01mreturn\u001b[39;00m \u001b[43mwrapper_GDALWarpDestName\u001b[49m\u001b[43m(\u001b[49m\u001b[43mdestNameOrDestDS\u001b[49m\u001b[43m,\u001b[49m\u001b[43m \u001b[49m\u001b[43msrcDSTab\u001b[49m\u001b[43m,\u001b[49m\u001b[43m \u001b[49m\u001b[43mopts\u001b[49m\u001b[43m,\u001b[49m\u001b[43m \u001b[49m\u001b[43mcallback\u001b[49m\u001b[43m,\u001b[49m\u001b[43m \u001b[49m\u001b[43mcallback_data\u001b[49m\u001b[43m)\u001b[49m\n\u001b[32m    789\u001b[39m \u001b[38;5;28;01melse\u001b[39;00m:\n\u001b[32m    790\u001b[39m     \u001b[38;5;28;01mreturn\u001b[39;00m wrapper_GDALWarpDestDS(destNameOrDestDS, srcDSTab, opts, callback, callback_data)\n",
      "\u001b[36mFile \u001b[39m\u001b[32md:\\Projects\\VsCode\\Python\\img_processing_system\\.conda\\Lib\\site-packages\\osgeo\\gdal.py:4815\u001b[39m, in \u001b[36mwrapper_GDALWarpDestName\u001b[39m\u001b[34m(*args)\u001b[39m\n\u001b[32m   4813\u001b[39m \u001b[38;5;28;01mdef\u001b[39;00m\u001b[38;5;250m \u001b[39m\u001b[34mwrapper_GDALWarpDestName\u001b[39m(*args) -> \u001b[33m\"\u001b[39m\u001b[33mGDALDatasetShadow *\u001b[39m\u001b[33m\"\u001b[39m:\n\u001b[32m   4814\u001b[39m \u001b[38;5;250m    \u001b[39m\u001b[33mr\u001b[39m\u001b[33;03m\"\"\"wrapper_GDALWarpDestName(char const * dest, int object_list_count, GDALWarpAppOptions warpAppOptions, GDALProgressFunc callback=0, void * callback_data=None) -> Dataset\"\"\"\u001b[39;00m\n\u001b[32m-> \u001b[39m\u001b[32m4815\u001b[39m     \u001b[38;5;28;01mreturn\u001b[39;00m \u001b[43m_gdal\u001b[49m\u001b[43m.\u001b[49m\u001b[43mwrapper_GDALWarpDestName\u001b[49m\u001b[43m(\u001b[49m\u001b[43m*\u001b[49m\u001b[43margs\u001b[49m\u001b[43m)\u001b[49m\n",
      "\u001b[31mTypeError\u001b[39m: in method 'wrapper_GDALWarpDestName', argument 4 of type 'GDALWarpAppOptions *'"
     ]
    }
   ],
   "source": [
    "from osgeo import gdal\n",
    "\n",
    "# 输入和输出文件名\n",
    "input_file = \"my_img.tif\"\n",
    "output_file = \"my_img_resampled.tif\"\n",
    "\n",
    "# 获取原始数据集\n",
    "src_ds = gdal.Open(input_file)\n",
    "src_proj = src_ds.GetProjection()\n",
    "src_gt = src_ds.GetGeoTransform()\n",
    "src_xsize = src_ds.RasterXSize\n",
    "src_ysize = src_ds.RasterYSize\n",
    "\n",
    "# 目标大小为原来的2倍（像素数量4倍）\n",
    "dst_xsize = src_xsize * 2\n",
    "dst_ysize = src_ysize * 2\n",
    "\n",
    "# 使用gdal.Warp进行重采样\n",
    "gdal.Warp(\n",
    "    output_file,\n",
    "    src_ds,\n",
    "    width=dst_xsize,\n",
    "    height=dst_ysize,\n",
    "    resampleAlg='bilinear',  # 可选: 'nearest', 'bilinear', 'cubic'等\n",
    "    outputBounds=None,\n",
    "    dstSRS=src_proj\n",
    ")"
   ]
  }
 ],
 "metadata": {
  "kernelspec": {
   "display_name": "Python 3",
   "language": "python",
   "name": "python3"
  },
  "language_info": {
   "codemirror_mode": {
    "name": "ipython",
    "version": 3
   },
   "file_extension": ".py",
   "mimetype": "text/x-python",
   "name": "python",
   "nbconvert_exporter": "python",
   "pygments_lexer": "ipython3",
   "version": "3.11.13"
  }
 },
 "nbformat": 4,
 "nbformat_minor": 5
}

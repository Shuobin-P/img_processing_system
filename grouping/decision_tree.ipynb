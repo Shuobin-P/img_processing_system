{
 "cells": [
  {
   "cell_type": "code",
   "execution_count": null,
   "id": "490b1f05",
   "metadata": {},
   "outputs": [],
   "source": [
    "import csv\n",
    "import os\n",
    "import numpy as np\n",
    "from sklearn import tree                       \n",
    "from osgeo import gdal\n",
    "import ospybook as pb\n",
    "folder = r'D:\\Projects\\VsCode\\Python\\img_processing_system\\osgeopy-data\\Landsat\\Utah'\n",
    "raster_fns = ['LE70380322000181EDC02_60m.tif', 'LE70380322000181EDC02_TIR_60m.tif']\n",
    "out_fn = 'tree_prediction60.tif'\n",
    "train_fn = r'D:\\Projects\\VsCode\\Python\\img_processing_system\\osgeopy-data\\Utah\\training_data.csv'\n",
    "gap_fn = r'D:\\Projects\\VsCode\\Python\\img_processing_system\\osgeopy-data\\Utah\\landcover60.tif'\n",
    "os.chdir(folder)\n",
    "\n",
    "\n",
    "# Read coordinates and class from csv\n",
    "xys = []                                                                 \n",
    "classes = []                                                            \n",
    "with open(train_fn) as fp:                                             \n",
    "    reader = csv.reader(fp)                                            \n",
    "    next(reader)                                                       \n",
    "    for row in reader:      \n",
    "        print(row)                                            \n",
    "        xys.append([float(n) for n in row[:2]])                         \n",
    "        classes.append(int(row[2]))    "
   ]
  },
  {
   "cell_type": "code",
   "execution_count": null,
   "id": "8b564c67",
   "metadata": {},
   "outputs": [],
   "source": [
    "# Get pixel offsets\n",
    "#   Then you open one of the raster datasets so you can create a transformer object to\n",
    "#   convert between map coordinates and pixel offsets. You use this with your list of coordinates\n",
    "#   to get pixel offsets in two lists called cols and rows.\n",
    "# 问题：没理解pixel offsets 代表什么？\n",
    "ds = gdal.Open(raster_fns[0])                                          \n",
    "pixel_trans = gdal.Transformer(ds, None, [])                           \n",
    "offset, ok = pixel_trans.TransformPoints(True, xys) # xys是从training_data.csv中取的。\n",
    "cols, rows, z = zip(*offset)  "
   ]
  },
  {
   "cell_type": "code",
   "execution_count": null,
   "id": "5e299d78",
   "metadata": {},
   "outputs": [],
   "source": [
    "print(pixel_trans)\n",
    "print(\"offset: \", offset)\n",
    "print(\"ok: \", ok)\n",
    "print(\"cols: \", cols)\n",
    "print(\"rows: \", rows)\n",
    "print(\"z: \", z)"
   ]
  },
  {
   "cell_type": "code",
   "execution_count": null,
   "id": "15d8251f",
   "metadata": {},
   "outputs": [],
   "source": [
    "data = pb.stack_bands(raster_fns)\n",
    "\n",
    "# Convert rows and cols to integer numpy arrays for indexing\n",
    "rows_int = np.array(rows).astype(int)\n",
    "cols_int = np.array(cols).astype(int)\n",
    "\n",
    "# Sample satellite data at pixel offsets\n",
    "sample = data[rows_int, cols_int, :]"
   ]
  },
  {
   "cell_type": "code",
   "execution_count": null,
   "id": "847bda8b",
   "metadata": {},
   "outputs": [],
   "source": [
    "# Fit the classification tree\n",
    "clf = tree.DecisionTreeClassifier(max_depth=5)                           \n",
    "clf = clf.fit(sample, classes)\n",
    "\n",
    "# Apply model to satellite data\n",
    "rows, cols, bands = data.shape\n",
    "data2d = np.reshape(data, (rows * cols, bands)) \n",
    "prediction = clf.predict(data2d) \n",
    "prediction = np.reshape(prediction, (rows, cols))\n",
    "\n",
    "# Set pixels with no satellite data to 0\n",
    "prediction[np.sum(data, 2) == 0] = 0   \n",
    "\n",
    "predict_ds = pb.make_raster(ds, out_fn, prediction, gdal.GDT_Byte, 0)\n",
    "predict_ds.FlushCache()\n",
    "levels = pb.compute_overview_levels(predict_ds.GetRasterBand(1))\n",
    "predict_ds.BuildOverviews('NEAREST', levels)\n",
    "\n",
    "# Copy colormap from SWReGAP dataset\n",
    "gap_ds = gdal.Open(gap_fn)                                             \n",
    "colors = gap_ds.GetRasterBand(1).GetRasterColorTable()                 \n",
    "predict_ds.GetRasterBand(1).SetRasterColorTable(colors) \n",
    "\n",
    "del ds"
   ]
  }
 ],
 "metadata": {
  "kernelspec": {
   "display_name": "Python 3",
   "language": "python",
   "name": "python3"
  },
  "language_info": {
   "codemirror_mode": {
    "name": "ipython",
    "version": 3
   },
   "file_extension": ".py",
   "mimetype": "text/x-python",
   "name": "python",
   "nbconvert_exporter": "python",
   "pygments_lexer": "ipython3",
   "version": "3.11.13"
  }
 },
 "nbformat": 4,
 "nbformat_minor": 5
}

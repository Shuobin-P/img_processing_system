{
 "cells": [
  {
   "cell_type": "markdown",
   "id": "53da2c16",
   "metadata": {},
   "source": [
    "# 比值法\n",
    "将两幅图像按波段进行逐像素除法操作，获取比值图像。  \n",
    "以los Angeles附近的区域的红光波段为例，数据来源：https://earthexplorer.usgs.gov/  \n",
    "数据集: Landsat Collection 2 U.S Analysis Ready Data (ARD)  "
   ]
  },
  {
   "cell_type": "code",
   "execution_count": 3,
   "id": "dfd46be8",
   "metadata": {},
   "outputs": [],
   "source": [
    "%run \"D:/Projects/VsCode/Python/img_processing_system/utils.py\"\n",
    "\n",
    "win_xsize = 1200\n",
    "win_ysize = 1400\n",
    "offset_x, offset_y = 3800, 2300\n",
    "\n",
    "get_subset_tif(\"D:\\Projects\\VsCode\\Python\\img_processing_system\\change_detection\\imgs\\difference\",\n",
    "               'ratio_LC09_CU_003012_20250429_20250505_02_SR_B3.TIF',\n",
    "               offset_x,\n",
    "               offset_y,\n",
    "               win_xsize, \n",
    "               win_ysize,\n",
    "               res_tif_fn= \"ratio_LC09_CU_003012_20250429_20250505_02_SR_B3_subset.TIF\")\n",
    "\n",
    "get_subset_tif('D:\\Projects\\VsCode\\Python\\img_processing_system\\change_detection\\imgs\\difference',\n",
    "               src_tif_fn= 'ratio_LT05_CU_003012_20100419_20210430_02_SR_B3.TIF',\n",
    "               offset_x = offset_x,\n",
    "               offset_y = offset_y,\n",
    "               win_xsize = win_xsize,\n",
    "               win_ysize = win_ysize,\n",
    "               res_tif_fn= \"ratio_LT05_CU_003012_20100419_20210430_02_SR_B3_subset.TIF\")"
   ]
  },
  {
   "cell_type": "code",
   "execution_count": 4,
   "id": "ef5e5a1f",
   "metadata": {},
   "outputs": [],
   "source": [
    "from osgeo import gdal\n",
    "ds_subset_2025 = gdal.Open(\"ratio_LC09_CU_003012_20250429_20250505_02_SR_B3_subset.TIF\")\n",
    "ds_subset_2010 = gdal.Open(\"ratio_LT05_CU_003012_20100419_20210430_02_SR_B3_subset.TIF\")\n",
    "band_subset_2025 = ds_subset_2025.GetRasterBand(1)\n",
    "band_subset_2010 = ds_subset_2010.GetRasterBand(1)\n",
    "data_2025 = band_subset_2025.ReadAsArray()\n",
    "data_2010 = band_subset_2010.ReadAsArray()\n",
    "gtiff_driver = gdal.GetDriverByName('GTiff') \n",
    "res_ds = gtiff_driver.Create(\"ratio.TIF\", win_xsize, win_ysize, bands = 1, eType=ds_subset_2025.GetRasterBand(1).DataType)\n",
    "res_ds.SetProjection(ds_subset_2025.GetProjection()) \n",
    "res_ds.SetGeoTransform(ds_subset_2025.GetGeoTransform())\n",
    "res_ds.GetRasterBand(1).WriteArray(data_2010/data_2025)\n",
    "del res_ds"
   ]
  }
 ],
 "metadata": {
  "kernelspec": {
   "display_name": "Python 3",
   "language": "python",
   "name": "python3"
  },
  "language_info": {
   "codemirror_mode": {
    "name": "ipython",
    "version": 3
   },
   "file_extension": ".py",
   "mimetype": "text/x-python",
   "name": "python",
   "nbconvert_exporter": "python",
   "pygments_lexer": "ipython3",
   "version": "3.11.13"
  }
 },
 "nbformat": 4,
 "nbformat_minor": 5
}

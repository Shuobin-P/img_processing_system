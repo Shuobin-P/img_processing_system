{
 "cells": [
  {
   "cell_type": "markdown",
   "id": "f20c4ae1",
   "metadata": {},
   "source": [
    "# 裁剪方法一"
   ]
  },
  {
   "cell_type": "code",
   "execution_count": 2,
   "id": "57723f24",
   "metadata": {},
   "outputs": [
    {
     "name": "stdout",
     "output_type": "stream",
     "text": [
      "裁剪完成: m_4211161_se_12_1_20160624_subset_method1.tif\n"
     ]
    }
   ],
   "source": [
    "%run \"D:/Projects/VsCode/Python/img_processing_system/utils.py\"\n",
    "\n",
    "# FIXME 在qgis中打开这两张图片，在颜色上，m_4211161_se_12_1_20160624_subset_method1.tif比m_4211161_se_12_1_20160624.tif更淡\n",
    "get_subset_tif(\n",
    "    work_dir = r'D:\\Projects\\VsCode\\Python\\img_processing_system\\qgis_image\\naip\\m_4211161_se_12_1_20160624',\n",
    "    src_tif_fn = 'm_4211161_se_12_1_20160624.tif',\n",
    "    offset_x = 0,\n",
    "    offset_y = 2528,\n",
    "    win_xsize = 5834,\n",
    "    win_ysize = 2000,\n",
    "    res_tif_fn = 'm_4211161_se_12_1_20160624_subset_method1.tif')"
   ]
  },
  {
   "cell_type": "markdown",
   "id": "05913af3",
   "metadata": {},
   "source": [
    "# 裁剪方法二"
   ]
  },
  {
   "cell_type": "code",
   "execution_count": 3,
   "id": "ce0d9890",
   "metadata": {},
   "outputs": [
    {
     "data": {
      "text/plain": [
       "<osgeo.gdal.Dataset; proxy of <Swig Object of type 'GDALDatasetShadow *' at 0x0000011CB57E0ED0> >"
      ]
     },
     "execution_count": 3,
     "metadata": {},
     "output_type": "execute_result"
    }
   ],
   "source": [
    "from osgeo import gdal\n",
    "import os\n",
    "\n",
    "os.chdir(r'D:\\Projects\\VsCode\\Python\\img_processing_system\\qgis_image\\naip\\m_4211161_se_12_1_20160624') \n",
    "src_file = 'm_4211161_se_12_1_20160624.tif'\n",
    "dst_file = 'm_4211161_se_12_1_20160624_subset_method2.tif'\n",
    "\n",
    "gdal.Translate(\n",
    "    dst_file,\n",
    "    src_file,\n",
    "    srcWin=[0, 2528, 5834, 2000]  # x_offset, y_offset, width, height\n",
    ")"
   ]
  }
 ],
 "metadata": {
  "kernelspec": {
   "display_name": "Python 3",
   "language": "python",
   "name": "python3"
  },
  "language_info": {
   "codemirror_mode": {
    "name": "ipython",
    "version": 3
   },
   "file_extension": ".py",
   "mimetype": "text/x-python",
   "name": "python",
   "nbconvert_exporter": "python",
   "pygments_lexer": "ipython3",
   "version": "3.11.13"
  }
 },
 "nbformat": 4,
 "nbformat_minor": 5
}

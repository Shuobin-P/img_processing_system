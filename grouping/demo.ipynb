{
 "cells": [
  {
   "cell_type": "markdown",
   "id": "544b413e",
   "metadata": {},
   "source": [
    "# 先去学机器学习中的非监督式学习的k-means算法再来继续"
   ]
  },
  {
   "cell_type": "code",
   "execution_count": null,
   "id": "4a8aea97",
   "metadata": {},
   "outputs": [],
   "source": [
    "import numpy as np\n",
    "from osgeo import gdal\n",
    "\n",
    "def stack_bands(filenames): \n",
    "    \"\"\"Returns a 3D array containing all band data from all files.\"\"\" \n",
    "    bands = [] \n",
    "    for fn in filenames: \n",
    "        ds = gdal.Open(fn) \n",
    "        for i in range(1, ds.RasterCount + 1): \n",
    "            bands.append(ds.GetRasterBand(i).ReadAsArray())\n",
    "    return np.dstack(bands)\n",
    "\n",
    "import os \n",
    "import numpy as np \n",
    "import spectral \n",
    "from osgeo import gdal\n",
    "import ospybook as pb\n",
    "folder = r'D:\\osgeopy-data\\Utah' \n",
    "raster_fns =  ['LE70380322000181EDC02_60m.tif', 'LE70380322000181EDC02_TIR_60m.tif']\n",
    "out_fn = 'kmeans_prediction_60m2.tif'\n",
    "os.chdir(folder)\n",
    "data = pb.stack_bands(raster_fns) \n",
    "classes, centers = spectral.kmeans(data)\n",
    "\n",
    "ds = gdal.Open(raster_fns[0]) \n",
    "out_ds = pb.make_raster(ds, out_fn, classes, gdal.GDT_Byte) \n",
    "levels = pb.compute_overview_levels(out_ds.GetRasterBand(1)) \n",
    "out_ds.BuildOverviews('NEAREST', levels) \n",
    "out_ds.FlushCache() \n",
    "out_ds.GetRasterBand(1).ComputeStatistics(False)\n",
    "del out_ds, ds\n"
   ]
  }
 ],
 "metadata": {
  "language_info": {
   "name": "python"
  }
 },
 "nbformat": 4,
 "nbformat_minor": 5
}

{
 "cells": [
  {
   "cell_type": "code",
   "execution_count": null,
   "id": "366f087d",
   "metadata": {},
   "outputs": [],
   "source": [
    "import shutil \n",
    "from osgeo import gdal, osr \n",
    "\n",
    "# Make a copy of the file to work with\n",
    "orig_fn = r'E:\\Tools\\QGIS_tutorial_data\\osgeopy-data\\Utah\\cache_no_gcp.tif' \n",
    "fn = r'E:\\Tools\\QGIS_tutorial_data\\osgeopy-data\\Utah\\cache.tif'\n",
    "shutil.copy(orig_fn, fn) \n",
    "\n",
    "ds = gdal.Open(fn, gdal.GA_Update) \n",
    "sr = osr.SpatialReference() \n",
    "sr.SetWellKnownGeogCS('WGS84') \n",
    "gcps = [\n",
    "      gdal.GCP(-111.931075, 41.745836, 0, 1078, 648),\n",
    "        gdal.GCP(-111.901655, 41.749269, 0, 3531, 295),\n",
    "          gdal.GCP(-111.899180, 41.739882, 0, 3722, 1334),\n",
    "            gdal.GCP(-111.930510, 41.728719, 0, 1102, 2548)\n",
    "             ]\n",
    "ds.SetGCPs(gcps, sr.ExportToWkt())\n",
    "ds = None"
   ]
  }
 ],
 "metadata": {
  "kernelspec": {
   "display_name": ".conda",
   "language": "python",
   "name": "python3"
  },
  "language_info": {
   "codemirror_mode": {
    "name": "ipython",
    "version": 3
   },
   "file_extension": ".py",
   "mimetype": "text/x-python",
   "name": "python",
   "nbconvert_exporter": "python",
   "pygments_lexer": "ipython3",
   "version": "3.11.13"
  }
 },
 "nbformat": 4,
 "nbformat_minor": 5
}

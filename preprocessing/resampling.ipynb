{
 "cells": [
  {
   "cell_type": "markdown",
   "id": "6d0f23e0",
   "metadata": {},
   "source": [
    "# RESAMPLING TO SMALLER PIXELS"
   ]
  },
  {
   "cell_type": "code",
   "execution_count": null,
   "id": "9fb81a8e",
   "metadata": {},
   "outputs": [],
   "source": [
    "import os \n",
    "from osgeo import gdal\n",
    "os.chdir(r'E:\\Tools\\QGIS_tutorial_data\\osgeopy-data\\Landsat\\Washington')\n",
    "in_ds = gdal.Open('p047r027_7t20000730_z10_nn10.tif') \n",
    "in_band = in_ds.GetRasterBand(1)  # 只处理了一个band\n",
    "\n",
    "# Get number of output rows and columns\n",
    "out_rows = in_band.YSize * 2 \n",
    "out_columns = in_band.XSize * 2\n",
    "gtiff_driver = gdal.GetDriverByName('GTiff') \n",
    "\n",
    "# Create output dataset\n",
    "out_ds = gtiff_driver.Create('band1_resampled_smaller_pixels.tif', out_columns, out_rows)\n",
    "out_ds.SetProjection(in_ds.GetProjection()) \n",
    "\n",
    "# Edit the geotransform so pixels are one-quarter previous size\n",
    "geotransform = list(in_ds.GetGeoTransform()) \n",
    "geotransform [1] /= 2 \n",
    "geotransform [5] /= 2 \n",
    "out_ds.SetGeoTransform(geotransform)\n",
    "\n",
    "# Specify a larger buffer size when reading data\n",
    "data = in_band.ReadAsArray(buf_xsize=out_columns, buf_ysize=out_rows)\n",
    "out_band = out_ds.GetRasterBand(1) \n",
    "out_band.WriteArray(data)\n",
    "\n",
    "# Build appropriate number of overviews for larger image\n",
    "out_band.FlushCache() \n",
    "out_band.ComputeStatistics(False) \n",
    "out_ds.BuildOverviews('average', [2, 4, 8, 16, 32, 64])\n",
    "del out_ds"
   ]
  },
  {
   "cell_type": "markdown",
   "id": "c01d01b3",
   "metadata": {},
   "source": [
    "# RESAMPLING TO LARGER PIXELS"
   ]
  },
  {
   "cell_type": "code",
   "execution_count": null,
   "id": "d9faaa39",
   "metadata": {},
   "outputs": [
    {
     "name": "stdout",
     "output_type": "stream",
     "text": [
      "SRS:  PROJCS[\"WGS 84 / UTM zone 10N\",GEOGCS[\"WGS 84\",DATUM[\"WGS_1984\",SPHEROID[\"WGS 84\",6378137,298.257223563,AUTHORITY[\"EPSG\",\"7030\"]],AUTHORITY[\"EPSG\",\"6326\"]],PRIMEM[\"Greenwich\",0,AUTHORITY[\"EPSG\",\"8901\"]],UNIT[\"degree\",0.0174532925199433,AUTHORITY[\"EPSG\",\"9122\"]],AUTHORITY[\"EPSG\",\"4326\"]],PROJECTION[\"Transverse_Mercator\"],PARAMETER[\"latitude_of_origin\",0],PARAMETER[\"central_meridian\",-123],PARAMETER[\"scale_factor\",0.9996],PARAMETER[\"false_easting\",500000],PARAMETER[\"false_northing\",0],UNIT[\"metre\",1,AUTHORITY[\"EPSG\",\"9001\"]],AXIS[\"Easting\",EAST],AXIS[\"Northing\",NORTH],AUTHORITY[\"EPSG\",\"32610\"]]\n",
      "343724.25 5369585.25\n",
      "0.0 0.0\n"
     ]
    }
   ],
   "source": [
    "import os \n",
    "from osgeo import gdal\n",
    "os.chdir(r'E:\\Tools\\QGIS_tutorial_data\\osgeopy-data\\Landsat\\Washington')\n",
    "in_ds = gdal.Open('p047r027_7t20000730_z10_nn10.tif') \n",
    "in_band = in_ds.GetRasterBand(1) \n",
    "\n",
    "out_rows = round(in_band.YSize / 2)\n",
    "out_columns = round(in_band.XSize / 2)\n",
    "\n",
    "gtiff_driver = gdal.GetDriverByName('GTiff') \n",
    "\n",
    "out_ds = gtiff_driver.Create('band1_resampled_larger_pixels.tif', out_columns, out_rows)\n",
    "\n",
    "out_ds.SetProjection(in_ds.GetProjection()) \n",
    "print(\"SRS: \",in_ds.GetProjection())\n",
    "\n",
    "geotransform = list(in_ds.GetGeoTransform()) \n",
    "geotransform [1] *= 2 \n",
    "geotransform [5] *= 2 \n",
    "out_ds.SetGeoTransform(geotransform)\n",
    "print(geotransform[0], geotransform[3])\n",
    "print(geotransform[2], geotransform[4])\n",
    "\n",
    "data = in_band.ReadAsArray(buf_xsize=out_columns, buf_ysize=out_rows)\n",
    "out_band = out_ds.GetRasterBand(1) \n",
    "out_band.WriteArray(data)\n",
    "\n",
    "# Build appropriate number of overviews for larger image\n",
    "out_band.FlushCache() \n",
    "out_band.ComputeStatistics(False) \n",
    "out_ds.BuildOverviews('average', [2, 4, 8, 16, 32, 64])\n",
    "del out_ds"
   ]
  },
  {
   "cell_type": "markdown",
   "id": "2dda53c2",
   "metadata": {},
   "source": [
    "# 重采样natural color照片，pixel size变大，照片分辨率变小"
   ]
  },
  {
   "cell_type": "code",
   "execution_count": 11,
   "id": "7c3b7d52",
   "metadata": {},
   "outputs": [],
   "source": [
    "import os \n",
    "from osgeo import gdal\n",
    "os.chdir(r'E:\\Tools\\QGIS_tutorial_data\\osgeopy-data\\Landsat\\Washington')\n",
    "in_ds = gdal.Open('nat_color.tif') \n",
    "in_band1 = in_ds.GetRasterBand(1) \n",
    "in_band2 = in_ds.GetRasterBand(2) \n",
    "in_band3 = in_ds.GetRasterBand(3) \n",
    "\n",
    "out_rows = round(in_band1.YSize / 2)\n",
    "out_columns = round(in_band1.XSize / 2)\n",
    "\n",
    "gtiff_driver = gdal.GetDriverByName('GTiff') \n",
    "\n",
    "out_ds = gtiff_driver.Create('nat_color_larger_pixels.tif', out_columns, out_rows, bands=3)\n",
    "\n",
    "out_ds.SetProjection(in_ds.GetProjection()) \n",
    "\n",
    "geotransform = list(in_ds.GetGeoTransform()) \n",
    "geotransform [1] *= 2 \n",
    "geotransform [5] *= 2 \n",
    "out_ds.SetGeoTransform(geotransform)\n",
    "\n",
    "data1 = in_band1.ReadAsArray(buf_xsize=out_columns, buf_ysize=out_rows)\n",
    "data2 = in_band2.ReadAsArray(buf_xsize=out_columns, buf_ysize=out_rows)\n",
    "data3 = in_band3.ReadAsArray(buf_xsize=out_columns, buf_ysize=out_rows)\n",
    "\n",
    "out_band1 = out_ds.GetRasterBand(1) \n",
    "out_band2 = out_ds.GetRasterBand(2) \n",
    "out_band3 = out_ds.GetRasterBand(3) \n",
    "\n",
    "out_band1.WriteArray(data1)\n",
    "out_band2.WriteArray(data2)\n",
    "out_band3.WriteArray(data3)\n",
    "\n",
    "# Build appropriate number of overviews for larger image\n",
    "out_band1.FlushCache()\n",
    "out_band2.FlushCache() \n",
    "out_band3.FlushCache() \n",
    "\n",
    "out_band1.ComputeStatistics(False) \n",
    "out_band2.ComputeStatistics(False) \n",
    "out_band3.ComputeStatistics(False) \n",
    "\n",
    "out_ds.BuildOverviews('average', [2, 4, 8, 16, 32, 64])\n",
    "del out_ds"
   ]
  },
  {
   "cell_type": "markdown",
   "id": "1825377d",
   "metadata": {},
   "source": [
    "重采样nat_color.tif，使得它的pixel size变小，分辨率更高"
   ]
  },
  {
   "cell_type": "code",
   "execution_count": null,
   "id": "0524089c",
   "metadata": {},
   "outputs": [],
   "source": [
    "import os \n",
    "from osgeo import gdal\n",
    "os.chdir(r'E:\\Tools\\QGIS_tutorial_data\\osgeopy-data\\Landsat\\Washington')\n",
    "in_ds = gdal.Open('nat_color.tif') \n",
    "in_band1 = in_ds.GetRasterBand(1) \n",
    "in_band2 = in_ds.GetRasterBand(2) \n",
    "in_band3 = in_ds.GetRasterBand(3) \n",
    "\n",
    "out_rows = in_band1.YSize * 2\n",
    "out_columns = in_band1.XSize * 2\n",
    "\n",
    "gtiff_driver = gdal.GetDriverByName('GTiff') \n",
    "\n",
    "out_ds = gtiff_driver.Create('nat_color_smaller_pixels.tif', out_columns, out_rows, bands=3)\n",
    "\n",
    "out_ds.SetProjection(in_ds.GetProjection()) \n",
    "\n",
    "geotransform = list(in_ds.GetGeoTransform()) \n",
    "geotransform [1] /= 2 \n",
    "geotransform [5] /= 2 \n",
    "out_ds.SetGeoTransform(geotransform)\n",
    "\n",
    "data1 = in_band1.ReadAsArray(buf_xsize=out_columns, buf_ysize=out_rows)\n",
    "data2 = in_band2.ReadAsArray(buf_xsize=out_columns, buf_ysize=out_rows)\n",
    "data3 = in_band3.ReadAsArray(buf_xsize=out_columns, buf_ysize=out_rows)\n",
    "\n",
    "out_band1 = out_ds.GetRasterBand(1)\n",
    "out_band2 = out_ds.GetRasterBand(2) \n",
    "out_band3 = out_ds.GetRasterBand(3) \n",
    "\n",
    "out_band1.WriteArray(data1)\n",
    "out_band2.WriteArray(data2)\n",
    "out_band3.WriteArray(data3)\n",
    "\n",
    "# Build appropriate number of overviews for larger image\n",
    "out_band1.FlushCache()\n",
    "out_band2.FlushCache() \n",
    "out_band3.FlushCache() \n",
    "\n",
    "out_band1.ComputeStatistics(False) \n",
    "out_band2.ComputeStatistics(False) \n",
    "out_band3.ComputeStatistics(False) \n",
    "\n",
    "out_ds.BuildOverviews('average', [2, 4, 8, 16, 32, 64])\n",
    "del out_ds"
   ]
  }
 ],
 "metadata": {
  "kernelspec": {
   "display_name": ".conda",
   "language": "python",
   "name": "python3"
  },
  "language_info": {
   "codemirror_mode": {
    "name": "ipython",
    "version": 3
   },
   "file_extension": ".py",
   "mimetype": "text/x-python",
   "name": "python",
   "nbconvert_exporter": "python",
   "pygments_lexer": "ipython3",
   "version": "3.11.13"
  }
 },
 "nbformat": 4,
 "nbformat_minor": 5
}

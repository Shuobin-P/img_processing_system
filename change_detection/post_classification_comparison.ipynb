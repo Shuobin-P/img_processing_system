{
 "cells": [
  {
   "cell_type": "markdown",
   "id": "d772584d",
   "metadata": {},
   "source": [
    "# 思路：先对两张图像分别分类后，再用分类后得到的分类图像做差，如果结果图像中的值为0，说明没有发生变化，若不为0，则说明发生了变化。\n",
    "# 问题：数据集哪里找？训练需要数据集，然后再找两幅时间不相同的图  \n",
    "该论文提供了数据集：https://www.mdpi.com/2072-4292/16/13/2355"
   ]
  },
  {
   "cell_type": "code",
   "execution_count": null,
   "id": "09addd71",
   "metadata": {},
   "outputs": [],
   "source": [
    "# CNN需要原图 + 已分类的图，CNN自动提取特征，不需要自己提取特征\n",
    "# 监督式学习分类：你需提供特征, label\n",
    "# 非监督式学习分类：你需提供特征"
   ]
  },
  {
   "cell_type": "code",
   "execution_count": null,
   "id": "f36d1a7c",
   "metadata": {},
   "outputs": [],
   "source": []
  }
 ],
 "metadata": {
  "kernelspec": {
   "display_name": "Python 3",
   "language": "python",
   "name": "python3"
  },
  "language_info": {
   "codemirror_mode": {
    "name": "ipython",
    "version": 3
   },
   "file_extension": ".py",
   "mimetype": "text/x-python",
   "name": "python",
   "nbconvert_exporter": "python",
   "pygments_lexer": "ipython3",
   "version": "3.11.13"
  }
 },
 "nbformat": 4,
 "nbformat_minor": 5
}

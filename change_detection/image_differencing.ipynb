{
 "cells": [
  {
   "cell_type": "markdown",
   "id": "67beeaa8",
   "metadata": {},
   "source": [
    "# 波段差值"
   ]
  },
  {
   "cell_type": "code",
   "execution_count": null,
   "id": "28f8d583",
   "metadata": {},
   "outputs": [],
   "source": [
    "import os \n",
    "from osgeo import gdal\n",
    "os.chdir(r'D:\\Projects\\VsCode\\Python\\img_processing_system\\change_detection\\imgs\\difference')\n",
    "t_1 = gdal.Open('2015_t1_clip.tif') \n",
    "t_2 = gdal.Open('2018_t2_clip_register.tif')\n",
    "\n",
    "t_1_band = t_1.GetRasterBand(1)\n",
    "t_2_band = t_2.GetRasterBand(1)\n",
    "\n",
    "\n",
    "gtiff_driver = gdal.GetDriverByName('GTiff') \n",
    "out_ds = gtiff_driver.Create('difference_between_t1_t2.tif', t_2_band.XSize, t_2_band.YSize)\n",
    "out_ds.SetProjection(t_1.GetProjection()) \n",
    "out_ds.SetGeoTransform(t_1.GetGeoTransform())\n",
    "\n",
    "t_1_data = t_1_band.ReadAsArray(buf_xsize=t_2_band.XSize, buf_ysize=t_2_band.YSize)\n",
    "t_2_data = t_2_band.ReadAsArray(buf_xsize=t_2_band.XSize, buf_ysize=t_2_band.YSize)\n",
    "\n",
    "out_band = out_ds.GetRasterBand(1) \n",
    "out_band.WriteArray(t_2_data - t_1_data)\n",
    "\n",
    "out_band.FlushCache() \n",
    "out_band.ComputeStatistics(False) \n",
    "out_ds.BuildOverviews('average', [2, 4, 8, 16, 32, 64])\n",
    "del out_ds"
   ]
  },
  {
   "cell_type": "markdown",
   "id": "438c9520",
   "metadata": {},
   "source": [
    "# 光谱指数差值\n",
    "以NDVI为例，问题是NDVI是自己算还是用现成的数据？\n",
    "NDVI的取值范围是[-1,1]，如果用tif格式存储，那几乎看不清什么东西啊。做差之后最大为2，最小为-1"
   ]
  },
  {
   "cell_type": "code",
   "execution_count": null,
   "id": "0b7b31e5",
   "metadata": {},
   "outputs": [
    {
     "name": "stdout",
     "output_type": "stream",
     "text": [
      "<class 'numpy.ndarray'>\n",
      "[  0   1   2   3   4   5   6   7   8   9  10  11  12  13  14  15  16  17\n",
      "  18  19  20  21  22  23  24  25  26  27  28  29  30  31  32  33  34  35\n",
      "  36  37  38  39  40  41  42  43  44  45  46  47  48  49  50  51  52  53\n",
      "  54  55  56  57  58  59  60  61  62  63  64  65  66  67  68  69  70  71\n",
      "  72  73  74  75  76  77  78  79  80  81  82  83  84  85  86  87  88  89\n",
      "  90  91  92  93  94  95  96  97  98  99 100 101 102 103 104 105 106 107\n",
      " 108 109 110 111 112 113 114 115 116 117 118 119 120 121 122 123 124 125\n",
      " 126 127 128 129 130 131 132 133 134 135 136 137 138 139 140 141 142 143\n",
      " 144 145 146 147 148 149 150 151 152 153 154 155 156 157 158 159 160 161\n",
      " 162 163 164 165 166 167 168 169 170 171 172 173 174 175 176 177 178 179\n",
      " 180 181 182 183 184 185 186 187 188 189 190 191 192 193 194 195 196 197\n",
      " 198 199 200 201 202 203 204 205 206 207 208 209 210 211 212 213 214 215\n",
      " 216 217 218 219 220 221 222 223 224 225 226 227 228 229 230 231 232 233\n",
      " 234 235 236 237 238 239 240 241 242 243 244 245 246 247 248 249 250 251\n",
      " 252 253 254 255]\n"
     ]
    }
   ],
   "source": [
    "import os \n",
    "import numpy as np\n",
    "from osgeo import gdal\n",
    "os.chdir(r'D:\\Projects\\VsCode\\Python\\img_processing_system\\change_detection\\imgs\\difference')\n",
    "ndvi_ex1_ds= gdal.Open('MOD_NDVI_M_2025-05-01_gs_1440x720.TIFF') \n",
    "ndvi_ex1_band = ndvi_ex1_ds.GetRasterBand(1)\n",
    "ndvi_ex1_band_data = ndvi_ex1_band.ReadAsArray()\n",
    "print(type(ndvi_ex1_band_data))\n",
    "print(np.unique(ndvi_ex1_band_data)) # FIXME 不是说取值范围[-1, 1]?\n"
   ]
  },
  {
   "cell_type": "code",
   "execution_count": null,
   "id": "1436ee9a",
   "metadata": {},
   "outputs": [],
   "source": []
  }
 ],
 "metadata": {
  "kernelspec": {
   "display_name": "Python 3",
   "language": "python",
   "name": "python3"
  },
  "language_info": {
   "codemirror_mode": {
    "name": "ipython",
    "version": 3
   },
   "file_extension": ".py",
   "mimetype": "text/x-python",
   "name": "python",
   "nbconvert_exporter": "python",
   "pygments_lexer": "ipython3",
   "version": "3.11.13"
  }
 },
 "nbformat": 4,
 "nbformat_minor": 5
}

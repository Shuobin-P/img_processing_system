{
 "cells": [
  {
   "cell_type": "markdown",
   "id": "34da56b8",
   "metadata": {},
   "source": [
    "# 找数据训练模型"
   ]
  },
  {
   "cell_type": "markdown",
   "id": "869bc15a",
   "metadata": {},
   "source": [
    "# 简易版"
   ]
  },
  {
   "cell_type": "markdown",
   "id": "fb6d0804",
   "metadata": {},
   "source": [
    "# 精细版"
   ]
  },
  {
   "cell_type": "code",
   "execution_count": null,
   "id": "07e45fd7",
   "metadata": {},
   "outputs": [],
   "source": [
    "# D:\\Projects\\VsCode\\Python\\img_processing_system\\osgeopy-data\\Utah\\training_data.csv 中的数据就是训练数据\n",
    "import pandas as pd\n",
    "training_data = pd.read_csv(r\"D:\\Projects\\VsCode\\Python\\img_processing_system\\osgeopy-data\\Utah\\training_data.csv\")\n",
    "print(training_data['class'].unique())\n",
    "print(len(training_data['class'].unique()))"
   ]
  }
 ],
 "metadata": {
  "kernelspec": {
   "display_name": "Python 3",
   "language": "python",
   "name": "python3"
  },
  "language_info": {
   "codemirror_mode": {
    "name": "ipython",
    "version": 3
   },
   "file_extension": ".py",
   "mimetype": "text/x-python",
   "name": "python",
   "nbconvert_exporter": "python",
   "pygments_lexer": "ipython3",
   "version": "3.11.13"
  }
 },
 "nbformat": 4,
 "nbformat_minor": 5
}

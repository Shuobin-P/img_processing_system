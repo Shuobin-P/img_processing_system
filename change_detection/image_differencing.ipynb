{
 "cells": [
  {
   "cell_type": "markdown",
   "id": "67beeaa8",
   "metadata": {},
   "source": [
    "# 波段差值"
   ]
  },
  {
   "cell_type": "code",
   "execution_count": null,
   "id": "28f8d583",
   "metadata": {},
   "outputs": [],
   "source": [
    "import os \n",
    "from osgeo import gdal\n",
    "os.chdir(r'D:\\Projects\\VsCode\\Python\\img_processing_system\\change_detection\\imgs\\difference')\n",
    "t_1 = gdal.Open('2015_t1_clip.tif') # t_1和t_2的分辨率大小有一点点不一样\n",
    "t_2 = gdal.Open('2018_t2_clip_register.tif')\n",
    "\n",
    "t_1_band = t_1.GetRasterBand(1)\n",
    "t_2_band = t_2.GetRasterBand(1)\n",
    "\n",
    "\n",
    "gtiff_driver = gdal.GetDriverByName('GTiff') \n",
    "out_ds = gtiff_driver.Create('difference_between_t1_t2.tif', t_2_band.XSize, t_2_band.YSize)\n",
    "out_ds.SetProjection(t_1.GetProjection()) \n",
    "out_ds.SetGeoTransform(t_1.GetGeoTransform())\n",
    "\n",
    "t_1_data = t_1_band.ReadAsArray(buf_xsize=t_2_band.XSize, buf_ysize=t_2_band.YSize)\n",
    "t_2_data = t_2_band.ReadAsArray(buf_xsize=t_2_band.XSize, buf_ysize=t_2_band.YSize)\n",
    "\n",
    "out_band = out_ds.GetRasterBand(1) \n",
    "out_band.WriteArray(t_2_data - t_1_data)\n",
    "\n",
    "out_band.FlushCache() \n",
    "out_band.ComputeStatistics(False) \n",
    "out_ds.BuildOverviews('average', [2, 4, 8, 16, 32, 64])\n",
    "del out_ds"
   ]
  },
  {
   "cell_type": "markdown",
   "id": "438c9520",
   "metadata": {},
   "source": [
    "# 光谱指数差值\n",
    "以NDVI为例，影像数据来源：https://neo.gsfc.nasa.gov/view.php?datasetId=MOD_NDVI_M&utm_source=chatgpt.com&year=2010"
   ]
  },
  {
   "cell_type": "code",
   "execution_count": 4,
   "id": "0b7b31e5",
   "metadata": {},
   "outputs": [],
   "source": [
    "import os \n",
    "import numpy as np\n",
    "from osgeo import gdal\n",
    "os.chdir(r'D:\\Projects\\VsCode\\Python\\img_processing_system\\change_detection\\imgs\\difference')\n",
    "ndvi_2025_ds= gdal.Open('NDVI_M_2025-05-01_gs_3600x1800.TIFF') \n",
    "ndvi_2010_ds= gdal.Open('NDVI_M_2010-05-01_gs_3600x1800.TIFF') \n",
    "\n",
    "ndvi_2025_band = ndvi_2025_ds.GetRasterBand(1)\n",
    "ndvi_2010_band = ndvi_2010_ds.GetRasterBand(1)\n",
    "\n",
    "ndvi_2025_band_data = ndvi_2025_band.ReadAsArray()\n",
    "ndvi_2010_band_data = ndvi_2010_band.ReadAsArray()\n",
    "\n",
    "gtiff_driver = gdal.GetDriverByName('GTiff') \n",
    "out_ds = gtiff_driver.Create('ndvi_difference_between_2025_2010.tif', ndvi_2025_band.XSize, ndvi_2025_band.YSize)\n",
    "out_ds.SetProjection(ndvi_2025_ds.GetProjection()) \n",
    "out_ds.SetGeoTransform(ndvi_2025_ds.GetGeoTransform())\n",
    "\n",
    "out_band = out_ds.GetRasterBand(1) \n",
    "out_band.WriteArray(ndvi_2025_band_data - ndvi_2010_band_data)\n",
    "\n",
    "out_band.FlushCache() \n",
    "out_band.ComputeStatistics(False) \n",
    "out_ds.BuildOverviews('average', [2, 4, 8, 16, 32, 64])\n",
    "del out_ds\n"
   ]
  }
 ],
 "metadata": {
  "kernelspec": {
   "display_name": "Python 3",
   "language": "python",
   "name": "python3"
  },
  "language_info": {
   "codemirror_mode": {
    "name": "ipython",
    "version": 3
   },
   "file_extension": ".py",
   "mimetype": "text/x-python",
   "name": "python",
   "nbconvert_exporter": "python",
   "pygments_lexer": "ipython3",
   "version": "3.11.13"
  }
 },
 "nbformat": 4,
 "nbformat_minor": 5
}

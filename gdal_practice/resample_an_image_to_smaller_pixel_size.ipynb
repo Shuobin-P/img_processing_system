{
 "cells": [
  {
   "cell_type": "code",
   "execution_count": null,
   "id": "9fb81a8e",
   "metadata": {},
   "outputs": [],
   "source": [
    "import os \n",
    "from osgeo import gdal\n",
    "os.chdir(r'D:\\osgeopy-data\\Landsat\\Washington')\n",
    "in_ds = gdal.Open('p047r027_7t20000730_z10_nn10.tif') \n",
    "in_band = in_ds.GetRasterBand(1) \n",
    "\n",
    "# Get number of output rows and columns\n",
    "out_rows = in_band.YSize * 2 \n",
    "out_columns = in_band.XSize * 2\n",
    "gtiff_driver = gdal.GetDriverByName('GTiff') \n",
    "\n",
    "# Create output dataset\n",
    "out_ds = gtiff_driver.Create('band1_resampled.tif', out_columns, out_rows)\n",
    "out_ds.SetProjection(in_ds.GetProjection()) \n",
    "\n",
    "# Edit the geotransform so pixels are one-quarter previous size\n",
    "geotransform = list(in_ds.GetGeoTransform()) \n",
    "geotransform [1] /= 2 \n",
    "geotransform [5] /= 2 \n",
    "out_ds.SetGeoTransform(geotransform)\n",
    "\n",
    "# Specify a larger buffer size when reading data\n",
    "data = in_band.ReadAsArray( buf_xsize=out_columns, buf_ysize=out_rows)\n",
    "out_band = out_ds.GetRasterBand(1) \n",
    "out_band.WriteArray(data)\n",
    "\n",
    "# Build appropriate number of overviews for larger image\n",
    "out_band.FlushCache() \n",
    "out_band.ComputeStatistics(False) \n",
    "out_ds.BuildOverviews('average', [2, 4, 8, 16, 32, 64])\n",
    "del out_ds"
   ]
  }
 ],
 "metadata": {
  "language_info": {
   "name": "python"
  }
 },
 "nbformat": 4,
 "nbformat_minor": 5
}

{
 "cells": [
  {
   "cell_type": "code",
   "execution_count": 2,
   "metadata": {},
   "outputs": [],
   "source": [
    "import os \n",
    "from osgeo import gdal\n",
    "os.chdir(r'E:\\Tools\\QGIS_tutorial_data\\osgeopy-data\\Landsat\\Washington') \n",
    "band1_fn = 'p047r027_7t20000730_z10_nn10.tif' \n",
    "band2_fn = 'p047r027_7t20000730_z10_nn20.tif'\n",
    "band3_fn = 'p047r027_7t20000730_z10_nn30.tif'\n",
    "in_ds = gdal.Open(band1_fn) \n",
    "in_band = in_ds.GetRasterBand(1)\n",
    "gtiff_driver = gdal.GetDriverByName('GTiff') \n",
    "out_ds = gtiff_driver.Create('nat_color.tif', in_band.XSize, in_band.YSize, 3, in_band.DataType)\n",
    "out_ds.SetProjection(in_ds.GetProjection())\n",
    "\n",
    "out_ds.SetGeoTransform(in_ds.GetGeoTransform())\n",
    "in_data = in_band.ReadAsArray() \n",
    "out_band = out_ds.GetRasterBand(3)\n",
    "out_band.WriteArray(in_data)\n",
    "in_ds = gdal.Open(band2_fn) \n",
    "out_band = out_ds.GetRasterBand(2)\n",
    "out_band.WriteArray(in_ds.ReadAsArray())\n",
    "out_ds.GetRasterBand(1).WriteArray( gdal.Open(band3_fn).ReadAsArray())\n",
    "out_ds.FlushCache() \n",
    "for i in range(1, 4):\n",
    "    out_ds.GetRasterBand(i).ComputeStatistics(False)"
   ]
  }
 ],
 "metadata": {
  "kernelspec": {
   "display_name": ".conda",
   "language": "python",
   "name": "python3"
  },
  "language_info": {
   "codemirror_mode": {
    "name": "ipython",
    "version": 3
   },
   "file_extension": ".py",
   "mimetype": "text/x-python",
   "name": "python",
   "nbconvert_exporter": "python",
   "pygments_lexer": "ipython3",
   "version": "3.11.13"
  }
 },
 "nbformat": 4,
 "nbformat_minor": 5
}

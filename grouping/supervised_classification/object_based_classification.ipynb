{
 "cells": [
  {
   "cell_type": "markdown",
   "id": "990e783b",
   "metadata": {},
   "source": [
    "教程地址：https://medium.com/data-science/object-based-land-cover-classification-with-python-cbe54e9c9e24\n",
    "对应视频地址：https://www.youtube.com/playlist?list=PLzHdTn7Pdxs6R6gf-0aLCqy8pL1GazPEe\n",
    "我感觉你飘了，先跟着教程跑一遍啊。"
   ]
  },
  {
   "cell_type": "code",
   "execution_count": 1,
   "id": "aa4972de",
   "metadata": {},
   "outputs": [],
   "source": [
    "\n",
    "import numpy as np\n",
    "from osgeo import gdal\n",
    "from skimage.segmentation import slic\n",
    "import os\n",
    "import ospybook as pb\n",
    "from skimage import io\n",
    "folder = r'D:\\Projects\\VsCode\\Python\\img_processing_system\\osgeopy-data\\Landsat\\Utah'\n",
    "raster_fns = ['LE70380322000181EDC02_60m.tif', 'LE70380322000181EDC02_TIR_60m.tif']\n",
    "os.chdir(folder)\n",
    "driverTiff = gdal.GetDriverByName('GTiff')\n",
    "band_data = pb.stack_bands(raster_fns)\n",
    "\n",
    "img = band_data"
   ]
  },
  {
   "cell_type": "code",
   "execution_count": 2,
   "id": "6ac72d46",
   "metadata": {},
   "outputs": [
    {
     "name": "stdout",
     "output_type": "stream",
     "text": [
      "<class 'numpy.ndarray'>\n"
     ]
    }
   ],
   "source": [
    "ds = gdal.Open(raster_fns[0])\n",
    "print(type(ds.GetRasterBand(1).ReadAsArray()))"
   ]
  },
  {
   "cell_type": "code",
   "execution_count": null,
   "id": "6497f786",
   "metadata": {},
   "outputs": [],
   "source": [
    "# 疑问：这些块是要和原本图片差不多更重要，还是说分成很多小块更重要？\n",
    "# 答：根据教程来看，分得小并且这些小块组成的大块与原本图片相同更为重要。\n",
    "segments = slic(img, n_segments=25, compactness=0.2) \n",
    "io.imshow(segments)"
   ]
  },
  {
   "cell_type": "code",
   "execution_count": null,
   "id": "b5fe78a7",
   "metadata": {},
   "outputs": [],
   "source": [
    "import scipy\n",
    "def segment_features(segment_pixels):\n",
    "    features = []\n",
    "    npixels, nbands = segment_pixels.shape\n",
    "    for b in range(nbands):\n",
    "        stats = scipy.stats.describe(segment_pixels[:, b])\n",
    "        band_stats = list(stats.minmax) + list(stats)[2:]\n",
    "        if npixels == 1:\n",
    "            # in this case the variance = nan, change it 0.0\n",
    "            band_stats[3] = 0.0\n",
    "        features += band_stats\n",
    "    return features"
   ]
  },
  {
   "cell_type": "code",
   "execution_count": null,
   "id": "96e14cc3",
   "metadata": {},
   "outputs": [],
   "source": [
    "segment_ids = np.unique(segments)\n",
    "objects = []\n",
    "object_ids = []\n",
    "for id in segment_ids:\n",
    "    segment_pixels = img[segments == id]\n",
    "    object_features = segment_features(segment_pixels)\n",
    "    objects.append(object_features)\n",
    "    object_ids.append(id)"
   ]
  }
 ],
 "metadata": {
  "kernelspec": {
   "display_name": "Python 3",
   "language": "python",
   "name": "python3"
  },
  "language_info": {
   "codemirror_mode": {
    "name": "ipython",
    "version": 3
   },
   "file_extension": ".py",
   "mimetype": "text/x-python",
   "name": "python",
   "nbconvert_exporter": "python",
   "pygments_lexer": "ipython3",
   "version": "3.11.13"
  }
 },
 "nbformat": 4,
 "nbformat_minor": 5
}

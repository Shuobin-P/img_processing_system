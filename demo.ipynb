{
 "cells": [
  {
   "cell_type": "code",
   "execution_count": 10,
   "id": "0cc1778d",
   "metadata": {},
   "outputs": [
    {
     "name": "stdout",
     "output_type": "stream",
     "text": [
      "(4, 2, 3)\n",
      "12\n"
     ]
    }
   ],
   "source": [
    "arr_2d_1 = [\n",
    "    [1,2,3],\n",
    "    [4,5,6]\n",
    "]\n",
    "\n",
    "arr_2d_2 = [\n",
    "    [7,8,9],\n",
    "    [10,11,12]\n",
    "]\n",
    "\n",
    "arr_2d_3 = [\n",
    "    [13,14,15],\n",
    "    [16,17,18]\n",
    "]\n",
    "\n",
    "arr_2d_4 = [\n",
    "    [19,20,21],\n",
    "    [22,23,24]\n",
    "]\n",
    "\n",
    "arr_3D = [arr_2d_1, arr_2d_2, arr_2d_3, arr_2d_4]\n",
    "import numpy as np\n",
    "arr = np.array(arr_3D)\n",
    "print(arr.shape)\n",
    "print(arr[1,1,2])"
   ]
  }
 ],
 "metadata": {
  "kernelspec": {
   "display_name": "Python 3",
   "language": "python",
   "name": "python3"
  },
  "language_info": {
   "codemirror_mode": {
    "name": "ipython",
    "version": 3
   },
   "file_extension": ".py",
   "mimetype": "text/x-python",
   "name": "python",
   "nbconvert_exporter": "python",
   "pygments_lexer": "ipython3",
   "version": "3.11.13"
  }
 },
 "nbformat": 4,
 "nbformat_minor": 5
}

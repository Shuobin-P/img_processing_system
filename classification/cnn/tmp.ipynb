{
 "cells": [
  {
   "cell_type": "code",
   "execution_count": 4,
   "id": "8a9404b2",
   "metadata": {},
   "outputs": [
    {
     "name": "stdout",
     "output_type": "stream",
     "text": [
      "Segmentation Models: using `tf.keras` framework.\n",
      "Downloading data from https://github.com/qubvel/classification_models/releases/download/0.0.1/resnet34_imagenet_1000_no_top.h5\n",
      "\u001b[1m85521592/85521592\u001b[0m \u001b[32m━━━━━━━━━━━━━━━━━━━━\u001b[0m\u001b[37m\u001b[0m \u001b[1m27s\u001b[0m 0us/step\n"
     ]
    }
   ],
   "source": [
    "import os\n",
    "os.environ['SM_FRAMEWORK'] = 'tf.keras'\n",
    "\n",
    "import segmentation_models as sm\n",
    "\n",
    "model = sm.Unet(\n",
    "    backbone_name='resnet34', \n",
    "    encoder_weights='imagenet', \n",
    "    input_shape=(256, 256, 3), \n",
    "    classes=1, \n",
    "    activation='sigmoid'\n",
    ")\n"
   ]
  },
  {
   "cell_type": "code",
   "execution_count": 5,
   "id": "9b3e108c",
   "metadata": {},
   "outputs": [
    {
     "name": "stderr",
     "output_type": "stream",
     "text": [
      "d:\\Projects\\VsCode\\Python\\img_processing_system\\.conda\\Lib\\site-packages\\tqdm\\auto.py:21: TqdmWarning: IProgress not found. Please update jupyter and ipywidgets. See https://ipywidgets.readthedocs.io/en/stable/user_install.html\n",
      "  from .autonotebook import tqdm as notebook_tqdm\n",
      "d:\\Projects\\VsCode\\Python\\img_processing_system\\.conda\\Lib\\site-packages\\huggingface_hub\\file_download.py:143: UserWarning: `huggingface_hub` cache-system uses symlinks by default to efficiently store duplicated files but your machine does not support them in C:\\Users\\31204\\.cache\\huggingface\\hub\\models--smp-hub--resnet34.imagenet. Caching files will still work but in a degraded version that might require more space on your disk. This warning can be disabled by setting the `HF_HUB_DISABLE_SYMLINKS_WARNING` environment variable. For more details, see https://huggingface.co/docs/huggingface_hub/how-to-cache#limitations.\n",
      "To support symlinks on Windows, you either need to activate Developer Mode or to run Python as an administrator. In order to activate developer mode, see this article: https://docs.microsoft.com/en-us/windows/apps/get-started/enable-your-device-for-development\n",
      "  warnings.warn(message)\n",
      "Xet Storage is enabled for this repo, but the 'hf_xet' package is not installed. Falling back to regular HTTP download. For better performance, install the package with: `pip install huggingface_hub[hf_xet]` or `pip install hf_xet`\n"
     ]
    }
   ],
   "source": [
    "import segmentation_models_pytorch as smp\n",
    "\n",
    "model = smp.Unet(\n",
    "    encoder_name=\"resnet34\",        # choose encoder, e.g. mobilenet_v2 or efficientnet-b7\n",
    "    encoder_weights=\"imagenet\",     # use `imagenet` pre-trained weights for encoder initialization\n",
    "    in_channels=1,                  # model input channels (1 for gray-scale images, 3 for RGB, etc.)\n",
    "    classes=3,                      # model output channels (number of classes in your dataset)\n",
    ")"
   ]
  },
  {
   "cell_type": "code",
   "execution_count": null,
   "id": "ecee4749",
   "metadata": {},
   "outputs": [
    {
     "name": "stdout",
     "output_type": "stream",
     "text": [
      "tensor([[-0.0931,  1.2765, -0.6405, -0.2433],\n",
      "        [-0.7287,  0.0699,  1.0226, -0.0151],\n",
      "        [-1.4360,  0.2025,  1.2713, -0.8034],\n",
      "        [ 0.9247, -0.2536,  0.5500,  0.8789]])\n"
     ]
    },
    {
     "data": {
      "text/plain": [
       "tensor([1, 2, 2, 0])"
      ]
     },
     "execution_count": 6,
     "metadata": {},
     "output_type": "execute_result"
    }
   ],
   "source": [
    "import torch\n",
    "a = torch.randn(4, 4)\n",
    "print(a)\n",
    "torch.argmax(a, dim=1) # 每一行最大元素的下标"
   ]
  },
  {
   "cell_type": "code",
   "execution_count": null,
   "id": "b841cf21",
   "metadata": {},
   "outputs": [
    {
     "data": {
      "text/plain": [
       "tensor([1, 0, 1, 0])"
      ]
     },
     "execution_count": 3,
     "metadata": {},
     "output_type": "execute_result"
    }
   ],
   "source": [
    "torch.argmax(a, dim=0) # 每一列最大元素的下标"
   ]
  },
  {
   "cell_type": "code",
   "execution_count": null,
   "id": "1cd8be45",
   "metadata": {},
   "outputs": [
    {
     "name": "stdout",
     "output_type": "stream",
     "text": [
      "tensor([[[-0.0489,  0.3053,  0.0528, -0.4225],\n",
      "         [ 0.0300,  0.6682, -1.2099, -0.6489],\n",
      "         [ 0.2906,  2.0094, -0.1708,  0.0365],\n",
      "         [-0.8599, -0.3847,  1.8094, -1.1798]],\n",
      "\n",
      "        [[ 0.9542,  1.6088, -0.3205,  0.4684],\n",
      "         [ 0.1263,  1.1628,  0.6352, -0.1534],\n",
      "         [-0.1892, -2.1707,  1.3857,  0.3710],\n",
      "         [ 0.0046, -0.5479,  1.2225, -1.2072]],\n",
      "\n",
      "        [[-1.1979, -0.2986, -0.2680, -0.0538],\n",
      "         [ 0.8723,  0.9237, -1.5431,  1.4367],\n",
      "         [-1.1248,  1.1123,  0.3210,  0.9656],\n",
      "         [ 0.3047,  0.6460, -0.1760, -0.1512]],\n",
      "\n",
      "        [[-0.3018, -0.3333,  0.3686,  0.4925],\n",
      "         [ 0.0789, -0.6327,  0.1999,  0.2238],\n",
      "         [-0.6470,  0.5958, -0.4412, -0.6201],\n",
      "         [-0.1424, -0.3006,  1.3116,  0.5466]]])\n"
     ]
    },
    {
     "data": {
      "text/plain": [
       "tensor([[2, 2, 3, 2],\n",
       "        [0, 0, 2, 0],\n",
       "        [1, 2, 2, 1],\n",
       "        [1, 2, 3, 3]])"
      ]
     },
     "execution_count": 5,
     "metadata": {},
     "output_type": "execute_result"
    }
   ],
   "source": [
    "a = torch.randn(4, 4, 4)\n",
    "print(a)\n",
    "torch.argmax(a, dim=1) # 输出4个二维矩阵的每一列最大元素的下标"
   ]
  },
  {
   "cell_type": "code",
   "execution_count": 12,
   "id": "9c1988c7",
   "metadata": {},
   "outputs": [
    {
     "name": "stdout",
     "output_type": "stream",
     "text": [
      "tensor([[[[ 1.9538, -0.1935],\n",
      "          [-0.6071,  0.5476],\n",
      "          [ 1.3069,  0.2146],\n",
      "          [-0.3215, -0.2366]],\n",
      "\n",
      "         [[ 0.3055, -0.0743],\n",
      "          [-0.3948,  0.7013],\n",
      "          [-0.2386,  1.9177],\n",
      "          [-0.0576,  1.2706]],\n",
      "\n",
      "         [[-1.3504,  1.0515],\n",
      "          [ 1.0404, -0.7795],\n",
      "          [ 0.3519, -0.7342],\n",
      "          [-0.5096, -1.4420]],\n",
      "\n",
      "         [[ 0.2416,  0.1613],\n",
      "          [ 0.3926, -0.5801],\n",
      "          [-0.1186,  1.6841],\n",
      "          [-1.0797,  1.1324]],\n",
      "\n",
      "         [[-0.6027, -1.6150],\n",
      "          [-1.3041, -0.5325],\n",
      "          [ 0.0332,  0.3823],\n",
      "          [ 0.4094, -0.0813]],\n",
      "\n",
      "         [[-0.0128,  0.2293],\n",
      "          [ 2.0436, -0.8405],\n",
      "          [-0.2364, -0.0740],\n",
      "          [-0.5844, -0.3534]]]])\n"
     ]
    }
   ],
   "source": [
    "a = torch.randn(1, 6, 4, 2)\n",
    "print(a)\n",
    "res= torch.argmax(a, dim=1)"
   ]
  },
  {
   "cell_type": "code",
   "execution_count": 13,
   "id": "7bdf2190",
   "metadata": {},
   "outputs": [
    {
     "name": "stdout",
     "output_type": "stream",
     "text": [
      "torch.Size([1, 4, 2])\n"
     ]
    }
   ],
   "source": [
    "print(res.shape)"
   ]
  }
 ],
 "metadata": {
  "kernelspec": {
   "display_name": "Python 3",
   "language": "python",
   "name": "python3"
  },
  "language_info": {
   "codemirror_mode": {
    "name": "ipython",
    "version": 3
   },
   "file_extension": ".py",
   "mimetype": "text/x-python",
   "name": "python",
   "nbconvert_exporter": "python",
   "pygments_lexer": "ipython3",
   "version": "3.11.13"
  }
 },
 "nbformat": 4,
 "nbformat_minor": 5
}

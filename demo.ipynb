{
 "cells": [
  {
   "cell_type": "code",
   "execution_count": null,
   "id": "c1fbe8fc",
   "metadata": {},
   "outputs": [
    {
     "ename": "",
     "evalue": "",
     "output_type": "error",
     "traceback": [
      "\u001b[1;31m由于缺少模块 \"typing_extensions\"，kernel 启动失败。请考虑安装此模块。\n",
      "\u001b[1;31m有关详细信息，请单击 <a href=\"https://aka.ms/kernelFailuresMissingModule\">此处</a>。"
     ]
    }
   ],
   "source": [
    "import cv2 as cv                  # open vision library OpenCV\n",
    "import numpy as np                # Numerical Python \n",
    "import matplotlib.pyplot as plt   # Python plotting\n",
    "\n",
    "a1 = cv.imread('img/lena.jpg')\n",
    "print(type(a1))\n",
    "a2 = cv.cvtColor(a1, cv.COLOR_BGR2RGB)\n",
    "print(type(a2))\n",
    "print(a2.shape)\n",
    "dt = np.dtype(a2[0,0,0])\n",
    "print(dt)\n"
   ]
  },
  {
   "cell_type": "code",
   "execution_count": null,
   "id": "f146708b",
   "metadata": {},
   "outputs": [],
   "source": [
    "a3 = cv.imread('img/lena.jpg', cv.IMREAD_GRAYSCALE)\n",
    "plt.figure()\n",
    "plt.imshow(a3, cmap='gray')\n",
    "plt.show()"
   ]
  },
  {
   "cell_type": "code",
   "execution_count": null,
   "id": "ff8c5a26",
   "metadata": {},
   "outputs": [],
   "source": [
    "image = cv.imwrite('lena_gray.tif', a3)"
   ]
  },
  {
   "cell_type": "code",
   "execution_count": null,
   "id": "ee7543e3",
   "metadata": {},
   "outputs": [],
   "source": [
    "a4 = a3.astype(np.float32) \n",
    "print(np.dtype(a4[0,0]))\n",
    "a5 = a4.astype(np.uint8)\n",
    "image = cv.imwrite('lena_gray2.tif', a5)"
   ]
  },
  {
   "cell_type": "code",
   "execution_count": null,
   "id": "5efb417d",
   "metadata": {},
   "outputs": [],
   "source": [
    "a = np.copy(a4)\n",
    "# Lena_eye=a[251:283,317:349]\n",
    "Lena_eye=a[251:330,280:320]\n"
   ]
  },
  {
   "cell_type": "code",
   "execution_count": null,
   "id": "b2e1e365",
   "metadata": {},
   "outputs": [],
   "source": [
    "plt.figure()\n",
    "\n",
    "plt.subplot(121)\n",
    "plt.imshow(a,cmap='gray',interpolation='none')\n",
    "plt.title('Lena'),plt.axis('off') \n",
    "\n",
    "plt.subplot(122)\n",
    "plt.imshow(Lena_eye,cmap='gray',interpolation='none')\n",
    "plt.title(\"Right Lena's eye\"),plt.axis('off') \n",
    "\n",
    "plt.show()"
   ]
  }
 ],
 "metadata": {
  "kernelspec": {
   "display_name": ".conda",
   "language": "python",
   "name": "python3"
  },
  "language_info": {
   "codemirror_mode": {
    "name": "ipython",
    "version": 3
   },
   "file_extension": ".py",
   "mimetype": "text/x-python",
   "name": "python",
   "nbconvert_exporter": "python",
   "pygments_lexer": "ipython3",
   "version": "3.9.23"
  }
 },
 "nbformat": 4,
 "nbformat_minor": 5
}

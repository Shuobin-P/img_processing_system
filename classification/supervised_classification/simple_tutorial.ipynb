{
 "cells": [
  {
   "cell_type": "markdown",
   "id": "7af5d722",
   "metadata": {},
   "source": [
    "教程地址：https://stackoverflow.com/questions/43331510/how-to-train-an-svm-classifier-on-a-satellite-image-using-python"
   ]
  },
  {
   "cell_type": "code",
   "execution_count": null,
   "id": "062b6a6d",
   "metadata": {},
   "outputs": [],
   "source": [
    "import numpy as np\n",
    "from skimage import io\n",
    "\n",
    "img = io.imread('D:\\Projects\\VsCode\\Python\\img_processing_system\\img\\TFOv7.png')\n",
    "print(img.shape)\n",
    "rows, cols, bands = img.shape\n",
    "print(rows, cols, bands)\n",
    "classes = {'building': 0, 'vegetation': 1, 'water': 2}\n",
    "n_classes = len(classes)\n",
    "palette = np.uint8([\n",
    "    [0, 255, 0], \n",
    "    [255, 0, 0], \n",
    "    [0, 0, 255]\n",
    "    ])"
   ]
  },
  {
   "cell_type": "code",
   "execution_count": null,
   "id": "5a42b75f",
   "metadata": {},
   "outputs": [],
   "source": [
    "print(palette)"
   ]
  },
  {
   "cell_type": "markdown",
   "id": "60e20e10",
   "metadata": {},
   "source": [
    "# 非监督式学习"
   ]
  },
  {
   "cell_type": "code",
   "execution_count": null,
   "id": "0b96697d",
   "metadata": {},
   "outputs": [],
   "source": [
    "from sklearn.cluster import KMeans\n",
    "\n",
    "X = img.reshape(rows*cols, bands)\n",
    "print(\"X.shape: \",X.shape)\n",
    "kmeans = KMeans(n_clusters=n_classes, random_state=3).fit(X)\n",
    "print(kmeans.labels_)\n",
    "print(np.unique(kmeans.labels_))\n",
    "unsupervised = kmeans.labels_.reshape(rows, cols)\n",
    "print(unsupervised)"
   ]
  },
  {
   "cell_type": "code",
   "execution_count": null,
   "id": "b652190b",
   "metadata": {},
   "outputs": [],
   "source": [
    "print(type(palette[unsupervised]))\n",
    "print(palette[unsupervised].shape)\n",
    "print(palette[unsupervised])"
   ]
  },
  {
   "cell_type": "markdown",
   "id": "a67ebebe",
   "metadata": {},
   "source": [
    "## 问题：palette与unsupervised中的分类如何对应的？"
   ]
  },
  {
   "cell_type": "code",
   "execution_count": null,
   "id": "4fb7fcdc",
   "metadata": {},
   "outputs": [],
   "source": [
    "io.imshow(palette[unsupervised]) \n"
   ]
  },
  {
   "cell_type": "markdown",
   "id": "6bd22994",
   "metadata": {},
   "source": [
    "# 监督学习"
   ]
  },
  {
   "cell_type": "code",
   "execution_count": null,
   "id": "079598a6",
   "metadata": {},
   "outputs": [],
   "source": [
    "supervised = n_classes * np.ones(shape=(rows, cols), dtype=int)\n",
    "supervised[200:220, 150:170] = classes['building']\n",
    "supervised[40:60, 40:60] = classes['vegetation']\n",
    "supervised[100:120, 200:220] = classes['water']"
   ]
  },
  {
   "cell_type": "code",
   "execution_count": null,
   "id": "2c81be46",
   "metadata": {},
   "outputs": [],
   "source": [
    "y = supervised.ravel() # 拉伸为1维\n",
    "train = np.flatnonzero(supervised < n_classes) # 即找到标记为building，vegetation，water的下标\n",
    "''' 你用来分析的\n",
    "print(supervised < n_classes)\n",
    "res = (supervised < n_classes).ravel()\n",
    "idx_list = []\n",
    "for i in range(0, len(res)):\n",
    "    if(res[i]):\n",
    "        idx_list.append(i)\n",
    "print(idx_list)\n",
    "print(train)\n",
    "'''\n",
    "test = np.flatnonzero(supervised == n_classes) # 即没有被标记为building，vegetation，water的下标\n",
    "\n",
    "\n",
    "#from sklearn.svm import SVC\n",
    "#clf = SVC(gamma='auto')\n",
    "#clf.fit(X[train], y[train])\n",
    "\n",
    "from sklearn.ensemble import RandomForestClassifier\n",
    "clf = RandomForestClassifier(n_estimators=100, class_weight=\"balanced\")\n",
    "clf.fit(X[train], y[train])\n",
    "\n",
    "y[test] = clf.predict(X[test])\n",
    "supervised = y.reshape(rows, cols)\n",
    "\n",
    "palette = np.uint8([\n",
    "    [255, 0, 0], \n",
    "    [0, 255, 0],\n",
    "    [0, 0, 255]\n",
    "    ])\n",
    "\n",
    "io.imshow(palette[supervised])"
   ]
  }
 ],
 "metadata": {
  "kernelspec": {
   "display_name": "Python 3",
   "language": "python",
   "name": "python3"
  },
  "language_info": {
   "codemirror_mode": {
    "name": "ipython",
    "version": 3
   },
   "file_extension": ".py",
   "mimetype": "text/x-python",
   "name": "python",
   "nbconvert_exporter": "python",
   "pygments_lexer": "ipython3",
   "version": "3.11.13"
  }
 },
 "nbformat": 4,
 "nbformat_minor": 5
}

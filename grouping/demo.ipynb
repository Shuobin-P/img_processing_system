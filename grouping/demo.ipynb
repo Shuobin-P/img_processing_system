{
 "cells": [
  {
   "cell_type": "markdown",
   "id": "544b413e",
   "metadata": {},
   "source": [
    "# 先去学机器学习中的非监督式学习的k-means算法再来继续"
   ]
  },
  {
   "cell_type": "code",
   "execution_count": 1,
   "id": "4a8aea97",
   "metadata": {},
   "outputs": [],
   "source": [
    "import numpy as np\n",
    "from osgeo import gdal\n",
    "\n",
    "def stack_bands(filenames): \n",
    "    \"\"\"Returns a 3D array containing all band data from all files.\"\"\" \n",
    "    bands = [] \n",
    "    for fn in filenames: \n",
    "        ds = gdal.Open(fn) \n",
    "        for i in range(1, ds.RasterCount + 1): \n",
    "            bands.append(ds.GetRasterBand(i).ReadAsArray())\n",
    "    return np.dstack(bands)\n",
    "\n"
   ]
  },
  {
   "cell_type": "markdown",
   "id": "b1ca0588",
   "metadata": {},
   "source": [
    "# 问题：怎么结果是一张全黑的图"
   ]
  },
  {
   "cell_type": "code",
   "execution_count": 3,
   "id": "0be9e378",
   "metadata": {},
   "outputs": [
    {
     "name": "stderr",
     "output_type": "stream",
     "text": [
      "spectral:INFO: k-means iteration 1 - 9903429 pixels reassigned.\n",
      "spectral:INFO: k-means iteration 2 - 2151944 pixels reassigned.\n",
      "spectral:INFO: k-means iteration 3 - 867849 pixels reassigned.\n",
      "spectral:INFO: k-means iteration 4 - 547027 pixels reassigned.\n",
      "spectral:INFO: k-means iteration 5 - 325501 pixels reassigned.\n",
      "spectral:INFO: k-means iteration 6 - 214849 pixels reassigned.\n",
      "spectral:INFO: k-means iteration 7 - 174003 pixels reassigned.\n",
      "spectral:INFO: k-means iteration 8 - 147331 pixels reassigned.\n",
      "spectral:INFO: k-means iteration 9 - 139681 pixels reassigned.\n",
      "spectral:INFO: k-means iteration 10 - 132859 pixels reassigned.\n",
      "spectral:INFO: k-means iteration 11 - 123494 pixels reassigned.\n",
      "spectral:INFO: k-means iteration 12 - 113834 pixels reassigned.\n",
      "spectral:INFO: k-means iteration 13 - 105887 pixels reassigned.\n",
      "spectral:INFO: k-means iteration 14 - 102579 pixels reassigned.\n",
      "spectral:INFO: k-means iteration 15 - 105211 pixels reassigned.\n",
      "spectral:INFO: k-means iteration 16 - 113352 pixels reassigned.\n",
      "spectral:INFO: k-means iteration 17 - 122768 pixels reassigned.\n",
      "spectral:INFO: k-means iteration 18 - 129825 pixels reassigned.\n",
      "spectral:INFO: k-means iteration 19 - 131906 pixels reassigned.\n",
      "spectral:INFO: k-means iteration 20 - 129766 pixels reassigned.\n",
      "spectral:INFO: kmeans terminated with 9 clusters after 20 iterations.\n"
     ]
    }
   ],
   "source": [
    "import os \n",
    "import numpy as np \n",
    "import spectral \n",
    "from osgeo import gdal\n",
    "import ospybook as pb\n",
    "folder = r'D:\\Projects\\VsCode\\Python\\img_processing_system\\osgeopy-data\\Landsat\\Utah' \n",
    "raster_fns =  ['LE70380322000181EDC02_60m.tif', 'LE70380322000181EDC02_TIR_60m.tif']\n",
    "out_fn = 'kmeans_prediction_60m2.tif'\n",
    "os.chdir(folder)\n",
    "data = pb.stack_bands(raster_fns) \n",
    "classes, centers = spectral.kmeans(data)\n",
    "\n",
    "ds = gdal.Open(raster_fns[0]) \n",
    "out_ds = pb.make_raster(ds, out_fn, classes, gdal.GDT_Byte) \n",
    "levels = pb.compute_overview_levels(out_ds.GetRasterBand(1)) \n",
    "out_ds.BuildOverviews('NEAREST', levels) \n",
    "out_ds.FlushCache() \n",
    "out_ds.GetRasterBand(1).ComputeStatistics(False)\n",
    "del out_ds, ds"
   ]
  }
 ],
 "metadata": {
  "kernelspec": {
   "display_name": "Python 3",
   "language": "python",
   "name": "python3"
  },
  "language_info": {
   "codemirror_mode": {
    "name": "ipython",
    "version": 3
   },
   "file_extension": ".py",
   "mimetype": "text/x-python",
   "name": "python",
   "nbconvert_exporter": "python",
   "pygments_lexer": "ipython3",
   "version": "3.11.13"
  }
 },
 "nbformat": 4,
 "nbformat_minor": 5
}
